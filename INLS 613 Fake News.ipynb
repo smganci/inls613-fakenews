{
 "cells": [
  {
   "cell_type": "markdown",
   "metadata": {},
   "source": [
    "# INLS 613: Fake News Detection"
   ]
  },
  {
   "cell_type": "markdown",
   "metadata": {},
   "source": [
    "## Outline:\n",
    "\n",
    "1. Import Data\n",
    "2. Extract Features\n",
    "3. Split Train and Test\n",
    "4. Train Models\n",
    "5. Evaluation"
   ]
  },
  {
   "cell_type": "markdown",
   "metadata": {},
   "source": [
    "## 1: Data"
   ]
  },
  {
   "cell_type": "markdown",
   "metadata": {},
   "source": [
    "### 1.1: Read in Data"
   ]
  },
  {
   "cell_type": "code",
   "execution_count": 1,
   "metadata": {
    "collapsed": true
   },
   "outputs": [],
   "source": [
    "import pandas as pd\n",
    "import numpy as np\n",
    "import scipy"
   ]
  },
  {
   "cell_type": "code",
   "execution_count": 2,
   "metadata": {
    "collapsed": true
   },
   "outputs": [],
   "source": [
    "df = pd.read_csv(\"fake_or_real_news.csv/fake_or_real_news.csv\",encoding='utf-8')"
   ]
  },
  {
   "cell_type": "code",
   "execution_count": 3,
   "metadata": {},
   "outputs": [
    {
     "data": {
      "text/html": [
       "<div>\n",
       "<style>\n",
       "    .dataframe thead tr:only-child th {\n",
       "        text-align: right;\n",
       "    }\n",
       "\n",
       "    .dataframe thead th {\n",
       "        text-align: left;\n",
       "    }\n",
       "\n",
       "    .dataframe tbody tr th {\n",
       "        vertical-align: top;\n",
       "    }\n",
       "</style>\n",
       "<table border=\"1\" class=\"dataframe\">\n",
       "  <thead>\n",
       "    <tr style=\"text-align: right;\">\n",
       "      <th></th>\n",
       "      <th>Unnamed: 0</th>\n",
       "      <th>title</th>\n",
       "      <th>text</th>\n",
       "      <th>label</th>\n",
       "    </tr>\n",
       "  </thead>\n",
       "  <tbody>\n",
       "    <tr>\n",
       "      <th>0</th>\n",
       "      <td>8476</td>\n",
       "      <td>You Can Smell Hillary’s Fear</td>\n",
       "      <td>Daniel Greenfield, a Shillman Journalism Fello...</td>\n",
       "      <td>FAKE</td>\n",
       "    </tr>\n",
       "    <tr>\n",
       "      <th>1</th>\n",
       "      <td>10294</td>\n",
       "      <td>Watch The Exact Moment Paul Ryan Committed Pol...</td>\n",
       "      <td>Google Pinterest Digg Linkedin Reddit Stumbleu...</td>\n",
       "      <td>FAKE</td>\n",
       "    </tr>\n",
       "  </tbody>\n",
       "</table>\n",
       "</div>"
      ],
      "text/plain": [
       "   Unnamed: 0                                              title  \\\n",
       "0        8476                       You Can Smell Hillary’s Fear   \n",
       "1       10294  Watch The Exact Moment Paul Ryan Committed Pol...   \n",
       "\n",
       "                                                text label  \n",
       "0  Daniel Greenfield, a Shillman Journalism Fello...  FAKE  \n",
       "1  Google Pinterest Digg Linkedin Reddit Stumbleu...  FAKE  "
      ]
     },
     "execution_count": 3,
     "metadata": {},
     "output_type": "execute_result"
    }
   ],
   "source": [
    "df.head(2)"
   ]
  },
  {
   "cell_type": "code",
   "execution_count": 4,
   "metadata": {},
   "outputs": [
    {
     "data": {
      "text/plain": [
       "array(['FAKE', 'REAL'], dtype=object)"
      ]
     },
     "execution_count": 4,
     "metadata": {},
     "output_type": "execute_result"
    }
   ],
   "source": [
    "df['label'].unique()"
   ]
  },
  {
   "cell_type": "code",
   "execution_count": 5,
   "metadata": {},
   "outputs": [
    {
     "data": {
      "text/plain": [
       "Index(['Unnamed: 0', 'title', 'text', 'label'], dtype='object')"
      ]
     },
     "execution_count": 5,
     "metadata": {},
     "output_type": "execute_result"
    }
   ],
   "source": [
    "df.columns"
   ]
  },
  {
   "cell_type": "code",
   "execution_count": 6,
   "metadata": {},
   "outputs": [
    {
     "data": {
      "text/plain": [
       "REAL    3171\n",
       "FAKE    3164\n",
       "Name: label, dtype: int64"
      ]
     },
     "execution_count": 6,
     "metadata": {},
     "output_type": "execute_result"
    }
   ],
   "source": [
    "df['label'].value_counts()"
   ]
  },
  {
   "cell_type": "markdown",
   "metadata": {},
   "source": [
    "### 1.2: Preprocessing"
   ]
  },
  {
   "cell_type": "markdown",
   "metadata": {},
   "source": [
    "#### 1.2.1: Convert Labels"
   ]
  },
  {
   "cell_type": "code",
   "execution_count": 7,
   "metadata": {
    "collapsed": true
   },
   "outputs": [],
   "source": [
    "from sklearn import preprocessing ### Importing a preprocessor to convert the labels in the target class. "
   ]
  },
  {
   "cell_type": "code",
   "execution_count": 8,
   "metadata": {
    "collapsed": true
   },
   "outputs": [],
   "source": [
    "data_class_y= [ 'FAKE', 'REAL']\n",
    "le= preprocessing.LabelEncoder()\n",
    "le.fit(data_class_y)\n",
    "#y should now be an array of labels where 0 is FAKE and 1 is REAL\n",
    "y=le.transform(df['label']);"
   ]
  },
  {
   "cell_type": "markdown",
   "metadata": {},
   "source": [
    "#### 1.2.2: Downcase text and title"
   ]
  },
  {
   "cell_type": "code",
   "execution_count": 9,
   "metadata": {
    "collapsed": true
   },
   "outputs": [],
   "source": [
    "# lower takes in an array of strings and converts every string to all lower case\n",
    "def lower(arr):\n",
    "    out=[]\n",
    "    for i in range(len(arr)):\n",
    "        out.append(arr[i].lower())\n",
    "    return out;"
   ]
  },
  {
   "cell_type": "code",
   "execution_count": 10,
   "metadata": {},
   "outputs": [],
   "source": [
    "lower_text=lower(df['text'])\n",
    "lower_title=lower(df['title'])\n"
   ]
  },
  {
   "cell_type": "code",
   "execution_count": 15,
   "metadata": {
    "collapsed": true
   },
   "outputs": [],
   "source": [
    "def title_convert(s):\n",
    "    words = s.split(\" \");\n",
    "    for i in range(len(words)):\n",
    "        words[i]=\"title_\"+words[i]\n",
    "    return \" \".join(words)\n",
    "\n",
    "def mult_title_convert(titles):\n",
    "    new_titles=[]\n",
    "    for i in range(len(titles)):\n",
    "        new_titles.append(title_convert(titles[i]))\n",
    "    return new_titles\n",
    "\n",
    "def combine_title_text(title, text):\n",
    "    out=[]\n",
    "    for i in range(len(text)):\n",
    "        out.append(title[i]+text[i])\n",
    "    return out"
   ]
  },
  {
   "cell_type": "code",
   "execution_count": 16,
   "metadata": {},
   "outputs": [],
   "source": [
    "prefixed_titles=mult_title_convert(lower_title)"
   ]
  },
  {
   "cell_type": "code",
   "execution_count": 17,
   "metadata": {},
   "outputs": [
    {
     "data": {
      "text/plain": [
       "['title_you title_can title_smell title_hillary’s title_fear']"
      ]
     },
     "execution_count": 17,
     "metadata": {},
     "output_type": "execute_result"
    }
   ],
   "source": [
    "prefixed_titles[0:1]"
   ]
  },
  {
   "cell_type": "code",
   "execution_count": 18,
   "metadata": {
    "collapsed": true
   },
   "outputs": [],
   "source": [
    "combined_text_title=combine_title_text(prefixed_titles, lower_text)"
   ]
  },
  {
   "cell_type": "code",
   "execution_count": 19,
   "metadata": {},
   "outputs": [
    {
     "data": {
      "text/plain": [
       "['title_you title_can title_smell title_hillary’s title_feardaniel greenfield, a shillman journalism fellow at the freedom center, is a new york writer focusing on radical islam. \\nin the final stretch of the election, hillary rodham clinton has gone to war with the fbi. \\nthe word “unprecedented” has been thrown around so often this election that it ought to be retired. but it’s still unprecedented for the nominee of a major political party to go war with the fbi. \\nbut that’s exactly what hillary and her people have done. coma patients just waking up now and watching an hour of cnn from their hospital beds would assume that fbi director james comey is hillary’s opponent in this election. \\nthe fbi is under attack by everyone from obama to cnn. hillary’s people have circulated a letter attacking comey. there are currently more media hit pieces lambasting him than targeting trump. it wouldn’t be too surprising if the clintons or their allies were to start running attack ads against the fbi. \\nthe fbi’s leadership is being warned that the entire left-wing establishment will form a lynch mob if they continue going after hillary. and the fbi’s credibility is being attacked by the media and the democrats to preemptively head off the results of the investigation of the clinton foundation and hillary clinton. \\nthe covert struggle between fbi agents and obama’s doj people has gone explosively public. \\nthe new york times has compared comey to j. edgar hoover. its bizarre headline, “james comey role recalls hoover’s fbi, fairly or not” practically admits up front that it’s spouting nonsense. the boston globe has published a column calling for comey’s resignation. not to be outdone, time has an editorial claiming that the scandal is really an attack on all women. \\njames carville appeared on msnbc to remind everyone that he was still alive and insane. he accused comey of coordinating with house republicans and the kgb. and you thought the “vast right wing conspiracy” was a stretch. \\ncountless media stories charge comey with violating procedure. do you know what’s a procedural violation? emailing classified information stored on your bathroom server. \\nsenator harry reid has sent comey a letter accusing him of violating the hatch act. the hatch act is a nice idea that has as much relevance in the age of obama as the tenth amendment. but the cable news spectrum quickly filled with media hacks glancing at the wikipedia article on the hatch act under the table while accusing the fbi director of one of the most awkward conspiracies against hillary ever. \\nif james comey is really out to hurt hillary, he picked one hell of a strange way to do it. \\nnot too long ago democrats were breathing a sigh of relief when he gave hillary clinton a pass in a prominent public statement. if he really were out to elect trump by keeping the email scandal going, why did he trash the investigation? was he on the payroll of house republicans and the kgb back then and playing it coy or was it a sudden development where vladimir putin and paul ryan talked him into taking a look at anthony weiner’s computer? \\neither comey is the most cunning fbi director that ever lived or he’s just awkwardly trying to navigate a political mess that has trapped him between a doj leadership whose political futures are tied to hillary’s victory and his own bureau whose apolitical agents just want to be allowed to do their jobs. \\nthe only truly mysterious thing is why hillary and her associates decided to go to war with a respected federal agency. most americans like the fbi while hillary clinton enjoys a 60% unfavorable rating. \\nand it’s an interesting question. \\nhillary’s old strategy was to lie and deny that the fbi even had a criminal investigation underway. instead her associates insisted that it was a security review. the fbi corrected her and she shrugged it off. but the old breezy denial approach has given way to a savage assault on the fbi. \\npretending that nothing was wrong was a bad strategy, but it was a better one that picking a fight with the fbi while lunatic clinton associates try to claim that the fbi is really the kgb. \\nthere are two possible explanations. \\nhillary clinton might be arrogant enough to lash out at the fbi now that she believes that victory is near. the same kind of hubris that led her to plan her victory fireworks display could lead her to declare a war on the fbi for irritating her during the final miles of her campaign. \\nbut the other explanation is that her people panicked. \\ngoing to war with the fbi is not the behavior of a smart and focused presidential campaign. it’s an act of desperation. when a presidential candidate decides that her only option is to try and destroy the credibility of the fbi, that’s not hubris, it’s fear of what the fbi might be about to reveal about her. \\nduring the original fbi investigation, hillary clinton was confident that she could ride it out. and she had good reason for believing that. but that hillary clinton is gone. in her place is a paranoid wreck. within a short space of time the “positive” clinton campaign promising to unite the country has been replaced by a desperate and flailing operation that has focused all its energy on fighting the fbi. \\nthere’s only one reason for such bizarre behavior. \\nthe clinton campaign has decided that an fbi investigation of the latest batch of emails poses a threat to its survival. and so it’s gone all in on fighting the fbi. it’s an unprecedented step born of fear. it’s hard to know whether that fear is justified. but the existence of that fear already tells us a whole lot. \\nclinton loyalists rigged the old investigation. they knew the outcome ahead of time as well as they knew the debate questions. now suddenly they are no longer in control. and they are afraid. \\nyou can smell the fear. \\nthe fbi has wiretaps from the investigation of the clinton foundation. it’s finding new emails all the time. and clintonworld panicked. the spinmeisters of clintonworld have claimed that the email scandal is just so much smoke without fire. all that’s here is the appearance of impropriety without any of the substance. but this isn’t how you react to smoke. it’s how you respond to a fire. \\nthe misguided assault on the fbi tells us that hillary clinton and her allies are afraid of a revelation bigger than the fundamental illegality of her email setup. the email setup was a preemptive cover up. the clinton campaign has panicked badly out of the belief, right or wrong, that whatever crime the illegal setup was meant to cover up is at risk of being exposed. \\nthe clintons have weathered countless scandals over the years. whatever they are protecting this time around is bigger than the usual corruption, bribery, sexual assaults and abuses of power that have followed them around throughout the years. this is bigger and more damaging than any of the allegations that have already come out. and they don’t want fbi investigators anywhere near it. \\nthe campaign against comey is pure intimidation. it’s also a warning. any senior fbi people who value their careers are being warned to stay away. the democrats are closing ranks around their nominee against the fbi. it’s an ugly and unprecedented scene. it may also be their last stand. \\nhillary clinton has awkwardly wound her way through numerous scandals in just this election cycle. but she’s never shown fear or desperation before. now that has changed. whatever she is afraid of, it lies buried in her emails with huma abedin. and it can bring her down like nothing else has.  ',\n",
       " 'title_watch title_the title_exact title_moment title_paul title_ryan title_committed title_political title_suicide title_at title_a title_trump title_rally title_(video)google pinterest digg linkedin reddit stumbleupon print delicious pocket tumblr \\nthere are two fundamental truths in this world: paul ryan desperately wants to be president. and paul ryan will never be president. today proved it. \\nin a particularly staggering example of political cowardice, paul ryan re-re-re-reversed course and announced that he was back on the trump train after all. this was an aboutface from where he was a few weeks ago. he had previously declared he would not be supporting or defending trump after a tape was made public in which trump bragged about assaulting women. suddenly, ryan was appearing at a pro-trump rally and boldly declaring that he already sent in his vote to make him president of the united states. it was a surreal moment. the figurehead of the republican party dosed himself in gasoline, got up on a stage on a chilly afternoon in wisconsin, and lit a match. . @speakerryan says he voted for @realdonaldtrump : “republicans, it is time to come home” https://t.co/vytt49yvoe pic.twitter.com/wcvscg4a5i \\n— abc news politics (@abcpolitics) november 5, 2016 \\nthe democratic party couldn’t have asked for a better moment of film. ryan’s chances of ever becoming president went down to zero in an instant. in the wreckage trump is to leave behind in his wake, those who cravenly backed his campaign will not recover. if ryan’s career manages to limp all the way to 2020, then the dnc will have this tape locked and loaded to be used in every ad until election day. \\nthe ringing endorsement of the man he clearly hates on a personal level speaks volumes about his own spinelessness. ryan has postured himself as a “principled” conservative, and one uncomfortable with trump’s unapologetic bigotry and sexism. however, when push came to shove, paul ryan – like many of his colleagues – turned into a sniveling appeaser. after all his lofty tak about conviction, his principles were a house of cards and collapsed with the slightest breeze. \\nwhat’s especially bizarre is how close ryan came to making it through unscathed. for months the speaker of the house refused to comment on trump at all. his strategy seemed to be to keep his head down, pretend trump didn’t exist, and hope that nobody remembered what happened in 2016. now, just days away from the election, he screwed it all up. \\nif 2016’s very ugly election has done any good it’s by exposing the utter cowardice of the republicans who once feigned moral courage. a reality television star spit on them, hijacked their party, insulted their wives, and got every last one of them to kneel before him. what a turn of events. \\nfeatured image via twitter']"
      ]
     },
     "execution_count": 19,
     "metadata": {},
     "output_type": "execute_result"
    }
   ],
   "source": [
    "combined_text_title[0:2]"
   ]
  },
  {
   "cell_type": "markdown",
   "metadata": {},
   "source": [
    "# 2: Extract Features"
   ]
  },
  {
   "cell_type": "code",
   "execution_count": 20,
   "metadata": {
    "collapsed": true
   },
   "outputs": [],
   "source": [
    "from sklearn.feature_extraction.text import TfidfVectorizer "
   ]
  },
  {
   "cell_type": "markdown",
   "metadata": {},
   "source": [
    "### 2.1: TFIDF of Text and Title"
   ]
  },
  {
   "cell_type": "code",
   "execution_count": 28,
   "metadata": {},
   "outputs": [],
   "source": [
    "tf_combined = TfidfVectorizer(min_df=1,stop_words='english',max_features=1500, lowercase=True)\n",
    "combined_tfidf = tf_combined.fit_transform(combined_text_title)\n",
    "combined_tfidf_array = combined_tfidf.toarray()"
   ]
  },
  {
   "cell_type": "code",
   "execution_count": 29,
   "metadata": {},
   "outputs": [
    {
     "data": {
      "text/plain": [
       "['poor',\n",
       " 'popular',\n",
       " 'population',\n",
       " 'position',\n",
       " 'positions',\n",
       " 'positive',\n",
       " 'possibility',\n",
       " 'possible',\n",
       " 'post',\n",
       " 'posted',\n",
       " 'potential',\n",
       " 'potentially',\n",
       " 'power',\n",
       " 'powerful',\n",
       " 'powers',\n",
       " 'practice',\n",
       " 'presence',\n",
       " 'present',\n",
       " 'presidency',\n",
       " 'president',\n",
       " 'presidential',\n",
       " 'press',\n",
       " 'pressure',\n",
       " 'pretty',\n",
       " 'prevent',\n",
       " 'previous',\n",
       " 'previously',\n",
       " 'price',\n",
       " 'primaries',\n",
       " 'primary',\n",
       " 'prime',\n",
       " 'prison',\n",
       " 'private',\n",
       " 'pro',\n",
       " 'probably',\n",
       " 'problem',\n",
       " 'problems',\n",
       " 'process',\n",
       " 'professor',\n",
       " 'program',\n",
       " 'programs',\n",
       " 'progress',\n",
       " 'progressive',\n",
       " 'project',\n",
       " 'promise',\n",
       " 'promised',\n",
       " 'propaganda',\n",
       " 'proposed',\n",
       " 'protect',\n",
       " 'protection',\n",
       " 'protest',\n",
       " 'protesters',\n",
       " 'protests',\n",
       " 'provide',\n",
       " 'provided',\n",
       " 'public',\n",
       " 'publicly',\n",
       " 'published',\n",
       " 'push',\n",
       " 'pushed',\n",
       " 'pushing',\n",
       " 'putin',\n",
       " 'putting',\n",
       " 'qaeda',\n",
       " 'question',\n",
       " 'questions',\n",
       " 'quickly',\n",
       " 'quite',\n",
       " 'race',\n",
       " 'racial',\n",
       " 'racist',\n",
       " 'radical',\n",
       " 'radio',\n",
       " 'raise',\n",
       " 'raised',\n",
       " 'raising',\n",
       " 'rally',\n",
       " 'ran',\n",
       " 'range',\n",
       " 'rate',\n",
       " 'rates',\n",
       " 'reach',\n",
       " 'reached',\n",
       " 'read',\n",
       " 'reading',\n",
       " 'ready',\n",
       " 'reagan',\n",
       " 'real',\n",
       " 'reality',\n",
       " 'really',\n",
       " 'reason',\n",
       " 'reasons',\n",
       " 'receive',\n",
       " 'received',\n",
       " 'recent',\n",
       " 'recently',\n",
       " 'record',\n",
       " 'records',\n",
       " 'red',\n",
       " 'reform',\n",
       " 'refugees',\n",
       " 'refused',\n",
       " 'regarding',\n",
       " 'regime',\n",
       " 'region',\n",
       " 'related',\n",
       " 'relations',\n",
       " 'relationship',\n",
       " 'release',\n",
       " 'released',\n",
       " 'religion',\n",
       " 'religious',\n",
       " 'remain',\n",
       " 'remains',\n",
       " 'remarks',\n",
       " 'remember',\n",
       " 'rep',\n",
       " 'repeatedly',\n",
       " 'report',\n",
       " 'reported',\n",
       " 'reportedly',\n",
       " 'reporter',\n",
       " 'reporters',\n",
       " 'reports',\n",
       " 'republican',\n",
       " 'republicans',\n",
       " 'require',\n",
       " 'required',\n",
       " 'research',\n",
       " 'resolution',\n",
       " 'resources',\n",
       " 'respect',\n",
       " 'respond',\n",
       " 'responded',\n",
       " 'response',\n",
       " 'responsibility',\n",
       " 'responsible',\n",
       " 'rest',\n",
       " 'result',\n",
       " 'results',\n",
       " 'retired',\n",
       " 'return',\n",
       " 'revealed',\n",
       " 'review',\n",
       " 'revolution',\n",
       " 'rhetoric',\n",
       " 'rich',\n",
       " 'richard',\n",
       " 'rigged',\n",
       " 'right',\n",
       " 'rights',\n",
       " 'rise',\n",
       " 'rising',\n",
       " 'risk',\n",
       " 'rival',\n",
       " 'road',\n",
       " 'rock',\n",
       " 'role',\n",
       " 'romney',\n",
       " 'room',\n",
       " 'rubio',\n",
       " 'rule',\n",
       " 'rules',\n",
       " 'ruling',\n",
       " 'run',\n",
       " 'runner',\n",
       " 'running',\n",
       " 'russia',\n",
       " 'russian',\n",
       " 'ryan',\n",
       " 'safe',\n",
       " 'safety',\n",
       " 'said',\n",
       " 'san',\n",
       " 'sanctions',\n",
       " 'sanders',\n",
       " 'saturday',\n",
       " 'saudi',\n",
       " 'save',\n",
       " 'saw',\n",
       " 'say',\n",
       " 'saying',\n",
       " 'says',\n",
       " 'scandal',\n",
       " 'school',\n",
       " 'schools',\n",
       " 'science',\n",
       " 'scientists',\n",
       " 'scott',\n",
       " 'sea',\n",
       " 'search',\n",
       " 'second',\n",
       " 'secret',\n",
       " 'secretary',\n",
       " 'secure',\n",
       " 'security',\n",
       " 'seek',\n",
       " 'seeking',\n",
       " 'seen',\n",
       " 'self',\n",
       " 'sen',\n",
       " 'senate',\n",
       " 'senator',\n",
       " 'send',\n",
       " 'senior',\n",
       " 'sense',\n",
       " 'sent',\n",
       " 'separate',\n",
       " 'september',\n",
       " 'series',\n",
       " 'seriously',\n",
       " 'serve',\n",
       " 'served',\n",
       " 'server',\n",
       " 'service',\n",
       " 'services',\n",
       " 'set',\n",
       " 'seven',\n",
       " 'sex',\n",
       " 'sexual',\n",
       " 'share',\n",
       " 'shift',\n",
       " 'shooting',\n",
       " 'short',\n",
       " 'shot',\n",
       " 'showed',\n",
       " 'showing',\n",
       " 'shown',\n",
       " 'shows',\n",
       " 'sides',\n",
       " 'sign',\n",
       " 'signed',\n",
       " 'significant',\n",
       " 'signs',\n",
       " 'similar',\n",
       " 'simple',\n",
       " 'simply',\n",
       " 'single',\n",
       " 'site',\n",
       " 'situation',\n",
       " 'small',\n",
       " 'social',\n",
       " 'society',\n",
       " 'solution',\n",
       " 'son',\n",
       " 'soon',\n",
       " 'soros',\n",
       " 'sort',\n",
       " 'sought',\n",
       " 'source',\n",
       " 'sources',\n",
       " 'south',\n",
       " 'southern',\n",
       " 'space',\n",
       " 'speak',\n",
       " 'speaker',\n",
       " 'speaking',\n",
       " 'special',\n",
       " 'specific',\n",
       " 'speech',\n",
       " 'spend',\n",
       " 'spending',\n",
       " 'spent',\n",
       " 'spoke',\n",
       " 'spokesman',\n",
       " 'staff',\n",
       " 'stage',\n",
       " 'stand',\n",
       " 'standard',\n",
       " 'standing',\n",
       " 'star',\n",
       " 'start',\n",
       " 'started',\n",
       " 'state',\n",
       " 'stated',\n",
       " 'statement',\n",
       " 'statements',\n",
       " 'states',\n",
       " 'status',\n",
       " 'stay',\n",
       " 'step',\n",
       " 'stop',\n",
       " 'stories',\n",
       " 'story',\n",
       " 'strategy',\n",
       " 'street',\n",
       " 'strong',\n",
       " 'student',\n",
       " 'students',\n",
       " 'studies',\n",
       " 'study',\n",
       " 'style',\n",
       " 'subject',\n",
       " 'success',\n",
       " 'successful',\n",
       " 'suggest',\n",
       " 'suggested',\n",
       " 'suggests',\n",
       " 'summer',\n",
       " 'sunday',\n",
       " 'super',\n",
       " 'support',\n",
       " 'supported',\n",
       " 'supporters',\n",
       " 'supporting',\n",
       " 'supposed',\n",
       " 'supreme',\n",
       " 'sure',\n",
       " 'surprise',\n",
       " 'surveillance',\n",
       " 'survey',\n",
       " 'swing',\n",
       " 'syria',\n",
       " 'syrian',\n",
       " 'systems',\n",
       " 'taken',\n",
       " 'takes',\n",
       " 'taking',\n",
       " 'talk',\n",
       " 'talking',\n",
       " 'talks',\n",
       " 'target',\n",
       " 'tax',\n",
       " 'taxes',\n",
       " 'team',\n",
       " 'technology',\n",
       " 'ted',\n",
       " 'television',\n",
       " 'tell',\n",
       " 'telling',\n",
       " 'term',\n",
       " 'terms',\n",
       " 'terror',\n",
       " 'terrorism',\n",
       " 'terrorist',\n",
       " 'terrorists',\n",
       " 'test',\n",
       " 'texas',\n",
       " 'text',\n",
       " 'thing',\n",
       " 'things',\n",
       " 'think',\n",
       " 'thinking',\n",
       " 'thinks',\n",
       " 'thought',\n",
       " 'thousands',\n",
       " 'threat',\n",
       " 'threats',\n",
       " 'thursday',\n",
       " 'ties',\n",
       " 'time',\n",
       " 'times',\n",
       " 'title_',\n",
       " 'title_a',\n",
       " 'title_and',\n",
       " 'title_clinton',\n",
       " 'title_for',\n",
       " 'title_hillary',\n",
       " 'title_in',\n",
       " 'title_is',\n",
       " 'title_obama',\n",
       " 'title_of',\n",
       " 'title_on',\n",
       " 'title_the',\n",
       " 'title_to',\n",
       " 'title_trump',\n",
       " 'today',\n",
       " 'told',\n",
       " 'took',\n",
       " 'total',\n",
       " 'tough',\n",
       " 'town',\n",
       " 'track',\n",
       " 'trade',\n",
       " 'traditional',\n",
       " 'trail',\n",
       " 'training',\n",
       " 'tried',\n",
       " 'troops',\n",
       " 'true',\n",
       " 'truly',\n",
       " 'trump',\n",
       " 'trust',\n",
       " 'truth',\n",
       " 'try',\n",
       " 'trying',\n",
       " 'tuesday',\n",
       " 'turkey',\n",
       " 'turn',\n",
       " 'turned',\n",
       " 'tv',\n",
       " 'twitter',\n",
       " 'type',\n",
       " 'ukraine',\n",
       " 'ultimately',\n",
       " 'understand',\n",
       " 'understanding',\n",
       " 'union',\n",
       " 'united',\n",
       " 'university',\n",
       " 'unless',\n",
       " 'unlikely',\n",
       " 'usa',\n",
       " 'use',\n",
       " 'used',\n",
       " 'using',\n",
       " 'value',\n",
       " 'values',\n",
       " 'various',\n",
       " 'vast',\n",
       " 've',\n",
       " 'vermont',\n",
       " 'version',\n",
       " 'veterans',\n",
       " 'vice',\n",
       " 'victims',\n",
       " 'victory',\n",
       " 'video',\n",
       " 'view',\n",
       " 'views',\n",
       " 'violence',\n",
       " 'violent',\n",
       " 'virginia',\n",
       " 'visit',\n",
       " 'voice',\n",
       " 'vote',\n",
       " 'voted',\n",
       " 'voter',\n",
       " 'voters',\n",
       " 'votes',\n",
       " 'voting',\n",
       " 'wage',\n",
       " 'wait',\n",
       " 'waiting',\n",
       " 'walk',\n",
       " 'walker',\n",
       " 'wall',\n",
       " 'want',\n",
       " 'wanted',\n",
       " 'wants',\n",
       " 'war',\n",
       " 'warned',\n",
       " 'warning',\n",
       " 'warren',\n",
       " 'wars',\n",
       " 'washington',\n",
       " 'wasn',\n",
       " 'watch',\n",
       " 'water',\n",
       " 'way',\n",
       " 'ways',\n",
       " 'wealth',\n",
       " 'weapons',\n",
       " 'website',\n",
       " 'wednesday',\n",
       " 'week',\n",
       " 'weekend',\n",
       " 'weeks',\n",
       " 'weiner',\n",
       " 'went',\n",
       " 'west',\n",
       " 'western',\n",
       " 'white',\n",
       " 'wife',\n",
       " 'wikileaks',\n",
       " 'willing',\n",
       " 'win',\n",
       " 'wing',\n",
       " 'winner',\n",
       " 'winning',\n",
       " 'wins',\n",
       " 'wisconsin',\n",
       " 'woman',\n",
       " 'women',\n",
       " 'won',\n",
       " 'word',\n",
       " 'words',\n",
       " 'work',\n",
       " 'worked',\n",
       " 'workers',\n",
       " 'working',\n",
       " 'works',\n",
       " 'world',\n",
       " 'worse',\n",
       " 'worst',\n",
       " 'worth',\n",
       " 'wouldn',\n",
       " 'write',\n",
       " 'writes',\n",
       " 'writing',\n",
       " 'written',\n",
       " 'wrong',\n",
       " 'wrote',\n",
       " 'www',\n",
       " 'year',\n",
       " 'years',\n",
       " 'yes',\n",
       " 'york',\n",
       " 'young',\n",
       " 'zero']"
      ]
     },
     "execution_count": 29,
     "metadata": {},
     "output_type": "execute_result"
    }
   ],
   "source": [
    "tf_combined.get_feature_names()[1000:]"
   ]
  },
  {
   "cell_type": "markdown",
   "metadata": {},
   "source": [
    "### 2.2: TFIDF of Title"
   ]
  },
  {
   "cell_type": "code",
   "execution_count": null,
   "metadata": {
    "collapsed": true
   },
   "outputs": [],
   "source": [
    "# \"\"\"\n",
    "# tfidf:\n",
    "# in: train x\n",
    "# out: tfidf vectorizor, train_x_tfidf_array\"\"\"\n",
    "\n",
    "# def to_train_x_tfidf_array (train_x, tf):\n",
    "# #     tf = TfidfVectorizer(min_df=1,stop_words='english',max_features=max_feat, lowercase=True)\n",
    "#     train_x_tfidf = tf.fit_transform(train_x)\n",
    "#     train_x_tfidf_array = train_x_tfidf.toarray()\n",
    "#     return train_x_tfidf_array\n",
    "\n",
    "# \"\"\"\n",
    "# create_feature_array:\n",
    "# in: tf (tfidf vectorizor)\n",
    "# out: array of features\"\"\"\n",
    "\n",
    "# def create_feature_array(tf):\n",
    "#     return np.array(tf.get_feature_names())\n",
    "\n",
    "# \"\"\"\n",
    "# sort_tfidf_array:\n",
    "# in: array (train_x_tfidf)\n",
    "# out: sorted array\"\"\"\n",
    "# def sort_tfidf_array(train_x_tfidf):\n",
    "#     return  np.argsort(train_x_tfidf).flatten()[::-1]\n",
    "\n",
    "# \"\"\"\n",
    "# top_n:\n",
    "# in: tf (tfidf vectorizor), train_x_tfidf array, n (number of features)\n",
    "# out: top_n features\"\"\"\n",
    "\n",
    "# def top_n_features(tf, train_x_tfidf, n):\n",
    "#     feature_array=create_feature_array(tf)\n",
    "#     tfidf_sorting=sort_tfidf_array(train_x_tfidf)\n",
    "#     top_n = feature_array[tfidf_sorting][:n]\n",
    "#     return top_n\n",
    "    \n",
    "# def title_convert(s):\n",
    "#     words = s.split(\" \");\n",
    "#     for i in range(len(words)):\n",
    "#         words[i]=\"title_\"+words[i]\n",
    "#     return \" \".join(words)"
   ]
  },
  {
   "cell_type": "code",
   "execution_count": null,
   "metadata": {},
   "outputs": [],
   "source": [
    "# tf_text = TfidfVectorizer(min_df=1,stop_words='english',max_features=500, lowercase=True)\n",
    "# text_x_tfidf = tf_text.fit_transform(df['text'])\n",
    "# text_x_tfidf_array = text_x_tfidf.toarray()\n"
   ]
  },
  {
   "cell_type": "markdown",
   "metadata": {},
   "source": [
    "#### 2.1.2 Title"
   ]
  },
  {
   "cell_type": "code",
   "execution_count": null,
   "metadata": {
    "collapsed": true
   },
   "outputs": [],
   "source": [
    "# tf_title = TfidfVectorizer(min_df=1,stop_words='english',max_features=500, lowercase=True)\n",
    "# title_x_tfidf = tf_title.fit_transform(df['title'])\n",
    "# title_x_tfidf_array = title_x_tfidf.toarray()"
   ]
  },
  {
   "cell_type": "code",
   "execution_count": null,
   "metadata": {},
   "outputs": [],
   "source": [
    "# feature_names=tf_title.get_feature_names()\n",
    "# # \n",
    "# for i in range(len(feature_names)):\n",
    "#     feature_names[i]=\"title_\"+feature_names[i]\n",
    "# feature_names"
   ]
  },
  {
   "cell_type": "code",
   "execution_count": null,
   "metadata": {},
   "outputs": [],
   "source": []
  },
  {
   "cell_type": "markdown",
   "metadata": {},
   "source": [
    "## 3: Split Train and Test Data"
   ]
  },
  {
   "cell_type": "code",
   "execution_count": null,
   "metadata": {
    "collapsed": true
   },
   "outputs": [],
   "source": [
    "from sklearn.model_selection import train_test_split"
   ]
  },
  {
   "cell_type": "code",
   "execution_count": null,
   "metadata": {
    "collapsed": true
   },
   "outputs": [],
   "source": [
    "#split_data splits up the data into training and test sets\n",
    "#it will return: train_x, test_x, train_y, test_y\n",
    "#example usage: train_x, test_x, train_y, test_y = split_data(df['text'],y)\n",
    "def split_data(x_features, y_class):\n",
    "    return train_test_split(x_features, y_class, train_size=.8, random_state=5)"
   ]
  },
  {
   "cell_type": "code",
   "execution_count": null,
   "metadata": {
    "collapsed": true
   },
   "outputs": [],
   "source": [
    "train_x, test_x, train_y, test_y = train_test_split(df['text'], y, train_size=.8, random_state=5)"
   ]
  },
  {
   "cell_type": "code",
   "execution_count": null,
   "metadata": {
    "collapsed": true
   },
   "outputs": [],
   "source": [
    "#print(\"fake: \"+train_y.tolist().count(\"0\")+\"real: \"+ train_y.tolist().count(1))"
   ]
  },
  {
   "cell_type": "code",
   "execution_count": null,
   "metadata": {
    "collapsed": true
   },
   "outputs": [],
   "source": [
    "unique, counts = np.unique(train_y, return_counts=True)"
   ]
  },
  {
   "cell_type": "code",
   "execution_count": null,
   "metadata": {},
   "outputs": [],
   "source": [
    "##counting distribution of classes in train\n",
    "dict(zip(unique, counts))"
   ]
  },
  {
   "cell_type": "code",
   "execution_count": null,
   "metadata": {},
   "outputs": [],
   "source": [
    "##counting distribution of classes in test\n",
    "unique, counts = np.unique(test_y, return_counts=True)\n",
    "dict(zip(unique, counts))"
   ]
  },
  {
   "cell_type": "markdown",
   "metadata": {
    "collapsed": true
   },
   "source": [
    "## 4: Models"
   ]
  },
  {
   "cell_type": "code",
   "execution_count": null,
   "metadata": {
    "collapsed": true
   },
   "outputs": [],
   "source": [
    "from sklearn.naive_bayes import MultinomialNB"
   ]
  },
  {
   "cell_type": "code",
   "execution_count": null,
   "metadata": {},
   "outputs": [],
   "source": [
    "mnb = MultinomialNB(alpha=1.0) # Check what this alpha value is. You have already learnt most of the math to understand this. \n",
    "mnb.fit(train_x_tfidf_array,train_y)"
   ]
  },
  {
   "cell_type": "code",
   "execution_count": null,
   "metadata": {
    "collapsed": true
   },
   "outputs": [],
   "source": [
    "## Test Set Data"
   ]
  },
  {
   "cell_type": "markdown",
   "metadata": {},
   "source": [
    "## 5: Evaluation"
   ]
  },
  {
   "cell_type": "code",
   "execution_count": null,
   "metadata": {
    "collapsed": true
   },
   "outputs": [],
   "source": []
  }
 ],
 "metadata": {
  "kernelspec": {
   "display_name": "Python 3",
   "language": "python",
   "name": "python3"
  },
  "language_info": {
   "codemirror_mode": {
    "name": "ipython",
    "version": 3
   },
   "file_extension": ".py",
   "mimetype": "text/x-python",
   "name": "python",
   "nbconvert_exporter": "python",
   "pygments_lexer": "ipython3",
   "version": "3.6.1"
  }
 },
 "nbformat": 4,
 "nbformat_minor": 2
}
