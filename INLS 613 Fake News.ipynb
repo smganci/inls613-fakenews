{
 "cells": [
  {
   "cell_type": "markdown",
   "metadata": {},
   "source": [
    "# INLS 613: Fake News Detection"
   ]
  },
  {
   "cell_type": "markdown",
   "metadata": {},
   "source": [
    "## Outline:\n",
    "\n",
    "1. Import Data\n",
    "2. Extract Features\n",
    "3. Split Train and Test\n",
    "4. Train Models\n",
    "5. Evaluation"
   ]
  },
  {
   "cell_type": "markdown",
   "metadata": {},
   "source": [
    "## 1: Data"
   ]
  },
  {
   "cell_type": "markdown",
   "metadata": {},
   "source": [
    "### 1.1: Read in Data"
   ]
  },
  {
   "cell_type": "code",
   "execution_count": 1,
   "metadata": {
    "collapsed": true
   },
   "outputs": [],
   "source": [
    "import pandas as pd\n",
    "import numpy as np\n",
    "import scipy"
   ]
  },
  {
   "cell_type": "code",
   "execution_count": 2,
   "metadata": {
    "collapsed": true
   },
   "outputs": [],
   "source": [
    "df = pd.read_csv(\"fake_or_real_news.csv/fake_or_real_news.csv\",encoding='utf-8')"
   ]
  },
  {
   "cell_type": "code",
   "execution_count": 3,
   "metadata": {},
   "outputs": [
    {
     "data": {
      "text/html": [
       "<div>\n",
       "<style>\n",
       "    .dataframe thead tr:only-child th {\n",
       "        text-align: right;\n",
       "    }\n",
       "\n",
       "    .dataframe thead th {\n",
       "        text-align: left;\n",
       "    }\n",
       "\n",
       "    .dataframe tbody tr th {\n",
       "        vertical-align: top;\n",
       "    }\n",
       "</style>\n",
       "<table border=\"1\" class=\"dataframe\">\n",
       "  <thead>\n",
       "    <tr style=\"text-align: right;\">\n",
       "      <th></th>\n",
       "      <th>Unnamed: 0</th>\n",
       "      <th>title</th>\n",
       "      <th>text</th>\n",
       "      <th>label</th>\n",
       "    </tr>\n",
       "  </thead>\n",
       "  <tbody>\n",
       "    <tr>\n",
       "      <th>0</th>\n",
       "      <td>8476</td>\n",
       "      <td>You Can Smell Hillary’s Fear</td>\n",
       "      <td>Daniel Greenfield, a Shillman Journalism Fello...</td>\n",
       "      <td>FAKE</td>\n",
       "    </tr>\n",
       "    <tr>\n",
       "      <th>1</th>\n",
       "      <td>10294</td>\n",
       "      <td>Watch The Exact Moment Paul Ryan Committed Pol...</td>\n",
       "      <td>Google Pinterest Digg Linkedin Reddit Stumbleu...</td>\n",
       "      <td>FAKE</td>\n",
       "    </tr>\n",
       "  </tbody>\n",
       "</table>\n",
       "</div>"
      ],
      "text/plain": [
       "   Unnamed: 0                                              title  \\\n",
       "0        8476                       You Can Smell Hillary’s Fear   \n",
       "1       10294  Watch The Exact Moment Paul Ryan Committed Pol...   \n",
       "\n",
       "                                                text label  \n",
       "0  Daniel Greenfield, a Shillman Journalism Fello...  FAKE  \n",
       "1  Google Pinterest Digg Linkedin Reddit Stumbleu...  FAKE  "
      ]
     },
     "execution_count": 3,
     "metadata": {},
     "output_type": "execute_result"
    }
   ],
   "source": [
    "df.head(2)"
   ]
  },
  {
   "cell_type": "code",
   "execution_count": 4,
   "metadata": {},
   "outputs": [
    {
     "data": {
      "text/plain": [
       "array(['FAKE', 'REAL'], dtype=object)"
      ]
     },
     "execution_count": 4,
     "metadata": {},
     "output_type": "execute_result"
    }
   ],
   "source": [
    "df['label'].unique()"
   ]
  },
  {
   "cell_type": "code",
   "execution_count": 5,
   "metadata": {},
   "outputs": [
    {
     "data": {
      "text/plain": [
       "Index(['Unnamed: 0', 'title', 'text', 'label'], dtype='object')"
      ]
     },
     "execution_count": 5,
     "metadata": {},
     "output_type": "execute_result"
    }
   ],
   "source": [
    "df.columns"
   ]
  },
  {
   "cell_type": "code",
   "execution_count": 6,
   "metadata": {},
   "outputs": [
    {
     "data": {
      "text/plain": [
       "REAL    3171\n",
       "FAKE    3164\n",
       "Name: label, dtype: int64"
      ]
     },
     "execution_count": 6,
     "metadata": {},
     "output_type": "execute_result"
    }
   ],
   "source": [
    "df['label'].value_counts()"
   ]
  },
  {
   "cell_type": "markdown",
   "metadata": {},
   "source": [
    "### 1.2: Preprocessing"
   ]
  },
  {
   "cell_type": "markdown",
   "metadata": {},
   "source": [
    "#### 1.2.1: Convert Labels"
   ]
  },
  {
   "cell_type": "code",
   "execution_count": 7,
   "metadata": {
    "collapsed": true
   },
   "outputs": [],
   "source": [
    "from sklearn import preprocessing ### Importing a preprocessor to convert the labels in the target class. "
   ]
  },
  {
   "cell_type": "code",
   "execution_count": 8,
   "metadata": {
    "collapsed": true
   },
   "outputs": [],
   "source": [
    "data_class_y= [ 'FAKE', 'REAL']\n",
    "le= preprocessing.LabelEncoder()\n",
    "le.fit(data_class_y)\n",
    "#y should now be an array of labels where 0 is FAKE and 1 is REAL\n",
    "y=le.transform(df['label']);"
   ]
  },
  {
   "cell_type": "markdown",
   "metadata": {},
   "source": [
    "#### 1.2.2: Downcase text and title"
   ]
  },
  {
   "cell_type": "code",
   "execution_count": 9,
   "metadata": {
    "collapsed": true
   },
   "outputs": [],
   "source": [
    "# lower takes in an array of strings and converts every string to all lower case\n",
    "def lower(arr):\n",
    "    out=[]\n",
    "    for i in range(len(arr)):\n",
    "        out.append(arr[i].lower())\n",
    "    return out;"
   ]
  },
  {
   "cell_type": "code",
   "execution_count": 10,
   "metadata": {
    "collapsed": true
   },
   "outputs": [],
   "source": [
    "lower_text=lower(df['text'])\n",
    "lower_title=lower(df['title'])\n"
   ]
  },
  {
   "cell_type": "markdown",
   "metadata": {},
   "source": [
    "remove stop words"
   ]
  },
  {
   "cell_type": "code",
   "execution_count": 11,
   "metadata": {
    "collapsed": true
   },
   "outputs": [],
   "source": [
    "import nltk\n",
    "from nltk.corpus import stopwords\n",
    "def remove_stops(s):\n",
    "    word_list = s.split(\" \");\n",
    "    filtered_words = [word for word in word_list if word not in stopwords.words('english')]\n",
    "    return \" \".join(filtered_words)\n",
    "\n",
    "def remove_all_stops(a):\n",
    "    out=[]\n",
    "    for i in range(len(a)):\n",
    "        out.append(remove_stops(a[i]))\n",
    "    return out\n"
   ]
  },
  {
   "cell_type": "code",
   "execution_count": 12,
   "metadata": {
    "collapsed": true
   },
   "outputs": [],
   "source": [
    "title_no_stops= remove_all_stops(lower_title)"
   ]
  },
  {
   "cell_type": "code",
   "execution_count": 13,
   "metadata": {
    "collapsed": true
   },
   "outputs": [],
   "source": [
    "# title_no_stops[0:5]"
   ]
  },
  {
   "cell_type": "markdown",
   "metadata": {},
   "source": [
    "#### 1.2.3 Convert and Combine Title and Text"
   ]
  },
  {
   "cell_type": "code",
   "execution_count": 14,
   "metadata": {
    "collapsed": true
   },
   "outputs": [],
   "source": [
    "def title_convert(s):\n",
    "    words = s.split(\" \");\n",
    "    for i in range(len(words)):\n",
    "        words[i]=\"title_\"+words[i]\n",
    "    return \" \".join(words)\n",
    "\n",
    "def mult_title_convert(titles):\n",
    "    new_titles=[]\n",
    "    for i in range(len(titles)):\n",
    "        new_titles.append(title_convert(titles[i]))\n",
    "    return new_titles\n",
    "\n",
    "def combine_title_text(title, text):\n",
    "    out=[]\n",
    "    for i in range(len(text)):\n",
    "        out.append(title[i]+\" \"+text[i])\n",
    "    return out"
   ]
  },
  {
   "cell_type": "code",
   "execution_count": 15,
   "metadata": {
    "collapsed": true
   },
   "outputs": [],
   "source": [
    "prefixed_titles=mult_title_convert(title_no_stops)\n",
    "combined_text_title=combine_title_text(prefixed_titles, lower_text)\n",
    "# combined_text_title[0]"
   ]
  },
  {
   "cell_type": "markdown",
   "metadata": {},
   "source": [
    "## 3: Split Train and Test Data"
   ]
  },
  {
   "cell_type": "markdown",
   "metadata": {},
   "source": [
    "### 3.1: Splitting using train_test_split"
   ]
  },
  {
   "cell_type": "code",
   "execution_count": 16,
   "metadata": {
    "collapsed": true
   },
   "outputs": [],
   "source": [
    "from sklearn.model_selection import train_test_split"
   ]
  },
  {
   "cell_type": "code",
   "execution_count": 17,
   "metadata": {
    "collapsed": true
   },
   "outputs": [],
   "source": [
    "#split_data splits up the data into training and test sets\n",
    "#it will return: train_x, test_x, train_y, test_y\n",
    "#example usage: train_x, test_x, train_y, test_y = split_data(df['text'],y)\n",
    "def split_data(x_features, y_class):\n",
    "    return train_test_split(x_features, y_class, train_size=.8, random_state=5)"
   ]
  },
  {
   "cell_type": "code",
   "execution_count": 20,
   "metadata": {},
   "outputs": [],
   "source": [
    "train_x, test_x, train_y, test_y = train_test_split(df, y, train_size=.8, random_state=5)"
   ]
  },
  {
   "cell_type": "code",
   "execution_count": 25,
   "metadata": {},
   "outputs": [
    {
     "name": "stdout",
     "output_type": "stream",
     "text": [
      "fake: 2527 real: 2541\n"
     ]
    }
   ],
   "source": [
    "print(\"fake: \"+ str(train_y.tolist().count(0))+\" real: \"+ str(train_y.tolist().count(1)))"
   ]
  },
  {
   "cell_type": "code",
   "execution_count": 27,
   "metadata": {},
   "outputs": [
    {
     "data": {
      "text/html": [
       "<div>\n",
       "<style>\n",
       "    .dataframe thead tr:only-child th {\n",
       "        text-align: right;\n",
       "    }\n",
       "\n",
       "    .dataframe thead th {\n",
       "        text-align: left;\n",
       "    }\n",
       "\n",
       "    .dataframe tbody tr th {\n",
       "        vertical-align: top;\n",
       "    }\n",
       "</style>\n",
       "<table border=\"1\" class=\"dataframe\">\n",
       "  <thead>\n",
       "    <tr style=\"text-align: right;\">\n",
       "      <th></th>\n",
       "      <th>Unnamed: 0</th>\n",
       "      <th>title</th>\n",
       "      <th>text</th>\n",
       "      <th>label</th>\n",
       "    </tr>\n",
       "  </thead>\n",
       "  <tbody>\n",
       "    <tr>\n",
       "      <th>1227</th>\n",
       "      <td>7665</td>\n",
       "      <td>Bill Clinton’s Lover: He Called Ruthless Hilla...</td>\n",
       "      <td>Bill Clinton is a sex-addicted ‘monster’ who...</td>\n",
       "      <td>FAKE</td>\n",
       "    </tr>\n",
       "    <tr>\n",
       "      <th>5803</th>\n",
       "      <td>7784</td>\n",
       "      <td>Putin Takes On The NWO, October 2016</td>\n",
       "      <td>Putin Takes On The NWO, October 2016 # thinkbi...</td>\n",
       "      <td>FAKE</td>\n",
       "    </tr>\n",
       "    <tr>\n",
       "      <th>4976</th>\n",
       "      <td>1554</td>\n",
       "      <td>Sanders campaign sues DNC after database breach</td>\n",
       "      <td>Washington (CNN) Bernie Sanders' campaign on F...</td>\n",
       "      <td>REAL</td>\n",
       "    </tr>\n",
       "    <tr>\n",
       "      <th>1112</th>\n",
       "      <td>8527</td>\n",
       "      <td>Banana Republic Election in the United States?</td>\n",
       "      <td>Banana Republic Election in the United States?...</td>\n",
       "      <td>FAKE</td>\n",
       "    </tr>\n",
       "    <tr>\n",
       "      <th>6083</th>\n",
       "      <td>8503</td>\n",
       "      <td>Biden Blames “Lazy American Women” For The Eco...</td>\n",
       "      <td>Email \\n\\nDemocratic Vice President Joe Biden ...</td>\n",
       "      <td>FAKE</td>\n",
       "    </tr>\n",
       "    <tr>\n",
       "      <th>1315</th>\n",
       "      <td>6943</td>\n",
       "      <td>Economic Nationalism: Alternative To Globalism</td>\n",
       "      <td>in: Corporate Takeover , Economy &amp; Business , ...</td>\n",
       "      <td>FAKE</td>\n",
       "    </tr>\n",
       "    <tr>\n",
       "      <th>1445</th>\n",
       "      <td>534</td>\n",
       "      <td>Obama seeks to end sequester cuts, raise spend...</td>\n",
       "      <td>President Obama called for an end to \"mindless...</td>\n",
       "      <td>REAL</td>\n",
       "    </tr>\n",
       "    <tr>\n",
       "      <th>2390</th>\n",
       "      <td>6803</td>\n",
       "      <td>Comment on 11 Things To Let Go Of Before The N...</td>\n",
       "      <td>The new year is almost here and it’s often a...</td>\n",
       "      <td>FAKE</td>\n",
       "    </tr>\n",
       "    <tr>\n",
       "      <th>3785</th>\n",
       "      <td>8747</td>\n",
       "      <td>Only Geniuses &amp; Schizophrenics Can Pass This 3...</td>\n",
       "      <td>0 - items Only Geniuses &amp; Schizophrenics Can P...</td>\n",
       "      <td>FAKE</td>\n",
       "    </tr>\n",
       "    <tr>\n",
       "      <th>5530</th>\n",
       "      <td>9831</td>\n",
       "      <td>Debunked: The Photo Of Obama With A Speech Bal...</td>\n",
       "      <td>Email \\nIn an age where information can be spr...</td>\n",
       "      <td>FAKE</td>\n",
       "    </tr>\n",
       "    <tr>\n",
       "      <th>3178</th>\n",
       "      <td>7848</td>\n",
       "      <td>Health Ranger to launch revolutionary, certifi...</td>\n",
       "      <td>• Slowed healing and recovery time• Increased ...</td>\n",
       "      <td>FAKE</td>\n",
       "    </tr>\n",
       "    <tr>\n",
       "      <th>1349</th>\n",
       "      <td>3380</td>\n",
       "      <td>Gowdy reveals subpoena Clinton claims she 'nev...</td>\n",
       "      <td>House Republicans investigating the 2012 attac...</td>\n",
       "      <td>REAL</td>\n",
       "    </tr>\n",
       "    <tr>\n",
       "      <th>5799</th>\n",
       "      <td>10497</td>\n",
       "      <td>3 Charlotte Area Counties Report Voting Machin...</td>\n",
       "      <td>MecklenburgCatawba \\nThe complaints noted that...</td>\n",
       "      <td>FAKE</td>\n",
       "    </tr>\n",
       "    <tr>\n",
       "      <th>3822</th>\n",
       "      <td>9931</td>\n",
       "      <td>Is Robert Mugabe on his deathbed? UK planning ...</td>\n",
       "      <td>Zimbabwe Daily — Oct 29, 2016 \\nLORD Peter Man...</td>\n",
       "      <td>FAKE</td>\n",
       "    </tr>\n",
       "    <tr>\n",
       "      <th>4008</th>\n",
       "      <td>4099</td>\n",
       "      <td>Just the Beginning? Religious Freedom, Gay Rig...</td>\n",
       "      <td>Ten months after the Supreme Court passed a la...</td>\n",
       "      <td>REAL</td>\n",
       "    </tr>\n",
       "    <tr>\n",
       "      <th>3531</th>\n",
       "      <td>10452</td>\n",
       "      <td>US Election an elaborate John Lewis Christmas ...</td>\n",
       "      <td>Adrian Bamforth   Adrian Bamforth</td>\n",
       "      <td>FAKE</td>\n",
       "    </tr>\n",
       "    <tr>\n",
       "      <th>6283</th>\n",
       "      <td>2249</td>\n",
       "      <td>The GOP’s ludicrous Kim Davis primary: How rag...</td>\n",
       "      <td>I hasten to underscore that I vigorously disag...</td>\n",
       "      <td>REAL</td>\n",
       "    </tr>\n",
       "    <tr>\n",
       "      <th>2928</th>\n",
       "      <td>3278</td>\n",
       "      <td>Is Mitch McConnell next?</td>\n",
       "      <td>(CNN) Conservatives at the Values Voter Summit...</td>\n",
       "      <td>REAL</td>\n",
       "    </tr>\n",
       "    <tr>\n",
       "      <th>3386</th>\n",
       "      <td>10409</td>\n",
       "      <td>Why Has Putin Pointed Russia's SATAN Nukes at ...</td>\n",
       "      <td>October 28, 2016 at 9:00 PM \\nWhy would Putin ...</td>\n",
       "      <td>FAKE</td>\n",
       "    </tr>\n",
       "    <tr>\n",
       "      <th>3354</th>\n",
       "      <td>6072</td>\n",
       "      <td>What happened in this election?</td>\n",
       "      <td>What happened in this election? By John Chuckm...</td>\n",
       "      <td>FAKE</td>\n",
       "    </tr>\n",
       "    <tr>\n",
       "      <th>1333</th>\n",
       "      <td>3059</td>\n",
       "      <td>New Study Shows Riots Make America Conservative</td>\n",
       "      <td>The recent spate of protests against police br...</td>\n",
       "      <td>REAL</td>\n",
       "    </tr>\n",
       "    <tr>\n",
       "      <th>4936</th>\n",
       "      <td>8285</td>\n",
       "      <td>America’s Most Popular ‘Legal’ Drug is Respons...</td>\n",
       "      <td>Home / Health / America’s Most Popular ‘Legal’...</td>\n",
       "      <td>FAKE</td>\n",
       "    </tr>\n",
       "    <tr>\n",
       "      <th>5849</th>\n",
       "      <td>3473</td>\n",
       "      <td>Obamacare threatens John Roberts’s dream of a ...</td>\n",
       "      <td>The first time the Affordable Care Act came be...</td>\n",
       "      <td>REAL</td>\n",
       "    </tr>\n",
       "    <tr>\n",
       "      <th>3598</th>\n",
       "      <td>6054</td>\n",
       "      <td>BREAKING: Obama: “We Have Not Had a Major Scan...</td>\n",
       "      <td>0 comments Obama was speaking to donors at a p...</td>\n",
       "      <td>FAKE</td>\n",
       "    </tr>\n",
       "    <tr>\n",
       "      <th>911</th>\n",
       "      <td>7375</td>\n",
       "      <td>Shallow 5.4 magnitude earthquake rattles centr...</td>\n",
       "      <td>00 UTC © USGS Map of the earthquake's epicent...</td>\n",
       "      <td>FAKE</td>\n",
       "    </tr>\n",
       "    <tr>\n",
       "      <th>564</th>\n",
       "      <td>5028</td>\n",
       "      <td>Donald Trump Pushes Republican Party to Its Br...</td>\n",
       "      <td>Donald Trump has summoned a tornado of negativ...</td>\n",
       "      <td>REAL</td>\n",
       "    </tr>\n",
       "    <tr>\n",
       "      <th>2619</th>\n",
       "      <td>3969</td>\n",
       "      <td>Fate of Paris attack mastermind unclear after ...</td>\n",
       "      <td>French investigators would not publicly identi...</td>\n",
       "      <td>REAL</td>\n",
       "    </tr>\n",
       "    <tr>\n",
       "      <th>628</th>\n",
       "      <td>6895</td>\n",
       "      <td>Meet The Man Who Started The Illuminati</td>\n",
       "      <td>Today, they are the source of ‘all conspiracy ...</td>\n",
       "      <td>FAKE</td>\n",
       "    </tr>\n",
       "    <tr>\n",
       "      <th>3556</th>\n",
       "      <td>1225</td>\n",
       "      <td>Why Nevada was a bad sign for Bernie Sanders's...</td>\n",
       "      <td>It was bad news for Bernie Sanders that he los...</td>\n",
       "      <td>REAL</td>\n",
       "    </tr>\n",
       "    <tr>\n",
       "      <th>2585</th>\n",
       "      <td>10496</td>\n",
       "      <td>The Products that Make Men Grow Breasts, Linke...</td>\n",
       "      <td>Owned by Unilever, the Axe brand includes a ra...</td>\n",
       "      <td>FAKE</td>\n",
       "    </tr>\n",
       "    <tr>\n",
       "      <th>...</th>\n",
       "      <td>...</td>\n",
       "      <td>...</td>\n",
       "      <td>...</td>\n",
       "      <td>...</td>\n",
       "    </tr>\n",
       "    <tr>\n",
       "      <th>3907</th>\n",
       "      <td>7002</td>\n",
       "      <td>BREAKING : After Embarrassingly Low Turnout at...</td>\n",
       "      <td>BREAKING : After Embarrassingly Low Turnout at...</td>\n",
       "      <td>FAKE</td>\n",
       "    </tr>\n",
       "    <tr>\n",
       "      <th>3155</th>\n",
       "      <td>5347</td>\n",
       "      <td>Don’t Believe The Myth That Weightlifting Will...</td>\n",
       "      <td>Many older physical trainers, and even those y...</td>\n",
       "      <td>FAKE</td>\n",
       "    </tr>\n",
       "    <tr>\n",
       "      <th>2288</th>\n",
       "      <td>9228</td>\n",
       "      <td>NYPD Source: Weiner Laptop Has Enough Evidence...</td>\n",
       "      <td>Leave a reply \\nSelwyn Duke – Sex crimes with ...</td>\n",
       "      <td>FAKE</td>\n",
       "    </tr>\n",
       "    <tr>\n",
       "      <th>2861</th>\n",
       "      <td>1033</td>\n",
       "      <td>How Donald Trump sees himself</td>\n",
       "      <td>He trusts no one, and places a premium on reve...</td>\n",
       "      <td>REAL</td>\n",
       "    </tr>\n",
       "    <tr>\n",
       "      <th>4506</th>\n",
       "      <td>10242</td>\n",
       "      <td>SC Gov. Nikki Haley Announces She’s Voting For...</td>\n",
       "      <td>Massive Spike In Obamacare Health Premiums Cou...</td>\n",
       "      <td>FAKE</td>\n",
       "    </tr>\n",
       "    <tr>\n",
       "      <th>3259</th>\n",
       "      <td>5216</td>\n",
       "      <td>Which States Can Gary Johnson and Jill Stein S...</td>\n",
       "      <td>Like his third-party forefathers, Gary Johnson...</td>\n",
       "      <td>REAL</td>\n",
       "    </tr>\n",
       "    <tr>\n",
       "      <th>1157</th>\n",
       "      <td>10538</td>\n",
       "      <td>An Angry John Podesta Issues A Statement On “R...</td>\n",
       "      <td>While Hillary has yet to address today’s stunn...</td>\n",
       "      <td>FAKE</td>\n",
       "    </tr>\n",
       "    <tr>\n",
       "      <th>75</th>\n",
       "      <td>1506</td>\n",
       "      <td>Jeb Bush Picks Up Endorsement From Lindsey Graham</td>\n",
       "      <td>Former GOP presidential hopeful Linsdey Graham...</td>\n",
       "      <td>REAL</td>\n",
       "    </tr>\n",
       "    <tr>\n",
       "      <th>710</th>\n",
       "      <td>8332</td>\n",
       "      <td>MARKETWATCH LEFTIST: MSM’s “Blatant” Anti Trum...</td>\n",
       "      <td></td>\n",
       "      <td>FAKE</td>\n",
       "    </tr>\n",
       "    <tr>\n",
       "      <th>1563</th>\n",
       "      <td>6244</td>\n",
       "      <td>NBC's Baghdad Bob: There Is No FBI Investigati...</td>\n",
       "      <td>NBC's Baghdad Bob: There Is No FBI Investigati...</td>\n",
       "      <td>FAKE</td>\n",
       "    </tr>\n",
       "    <tr>\n",
       "      <th>413</th>\n",
       "      <td>3638</td>\n",
       "      <td>US officials scanning terror databases in sear...</td>\n",
       "      <td>U.S. counterterrorism officials are reviewing ...</td>\n",
       "      <td>REAL</td>\n",
       "    </tr>\n",
       "    <tr>\n",
       "      <th>3423</th>\n",
       "      <td>8268</td>\n",
       "      <td>Investors Intelligence Says Here Is The Key To...</td>\n",
       "      <td>10 Views November 02, 2016 GOLD , KWN King Wor...</td>\n",
       "      <td>FAKE</td>\n",
       "    </tr>\n",
       "    <tr>\n",
       "      <th>4876</th>\n",
       "      <td>274</td>\n",
       "      <td>Pleading for Paul Ryan</td>\n",
       "      <td>Top Dems want White House to call off Part B d...</td>\n",
       "      <td>REAL</td>\n",
       "    </tr>\n",
       "    <tr>\n",
       "      <th>4922</th>\n",
       "      <td>9065</td>\n",
       "      <td>Would A Trump Presidency Make SJWs EVEN MORE A...</td>\n",
       "      <td>November 7, 2016, 8:05 pm A+ | a- Warning   \\n...</td>\n",
       "      <td>FAKE</td>\n",
       "    </tr>\n",
       "    <tr>\n",
       "      <th>4444</th>\n",
       "      <td>6243</td>\n",
       "      <td>Putin's New Promise: 'I WILL DEFEAT THE ILLUMI...</td>\n",
       "      <td>The Russian President Vladimir Putin has shown...</td>\n",
       "      <td>FAKE</td>\n",
       "    </tr>\n",
       "    <tr>\n",
       "      <th>2283</th>\n",
       "      <td>57</td>\n",
       "      <td>Million-dollar donors pump huge sums into 2016...</td>\n",
       "      <td>More than 50 individuals and entities have she...</td>\n",
       "      <td>REAL</td>\n",
       "    </tr>\n",
       "    <tr>\n",
       "      <th>2961</th>\n",
       "      <td>7178</td>\n",
       "      <td>Load of manure dumped at Democratic headquarters</td>\n",
       "      <td>Print \\nA load of manure was dumped outside th...</td>\n",
       "      <td>FAKE</td>\n",
       "    </tr>\n",
       "    <tr>\n",
       "      <th>1804</th>\n",
       "      <td>4966</td>\n",
       "      <td>William Weld: Never Mind Libertarianism, He's ...</td>\n",
       "      <td>Boston magazine has a long take on William Wel...</td>\n",
       "      <td>REAL</td>\n",
       "    </tr>\n",
       "    <tr>\n",
       "      <th>5254</th>\n",
       "      <td>7476</td>\n",
       "      <td>Freedom Center Urges College Presidents to End...</td>\n",
       "      <td>Freedom Center Urges College Presidents to End...</td>\n",
       "      <td>FAKE</td>\n",
       "    </tr>\n",
       "    <tr>\n",
       "      <th>3474</th>\n",
       "      <td>6500</td>\n",
       "      <td>CNN Fired Donna Brazile 2 Weeks Ago, Made It P...</td>\n",
       "      <td>\\n\\nCNN finally made it public that they have ...</td>\n",
       "      <td>FAKE</td>\n",
       "    </tr>\n",
       "    <tr>\n",
       "      <th>1484</th>\n",
       "      <td>8632</td>\n",
       "      <td>Donald Trump’s grandfather ran Canadian brothe...</td>\n",
       "      <td>Donald   says   Friedrich Trump amassed 'sub...</td>\n",
       "      <td>FAKE</td>\n",
       "    </tr>\n",
       "    <tr>\n",
       "      <th>4038</th>\n",
       "      <td>3049</td>\n",
       "      <td>The Supreme Court is just as polarized as the ...</td>\n",
       "      <td>Recent years have seen concerns about politica...</td>\n",
       "      <td>REAL</td>\n",
       "    </tr>\n",
       "    <tr>\n",
       "      <th>3701</th>\n",
       "      <td>2213</td>\n",
       "      <td>Republicans Warn Iran Against Nuclear Deal Wit...</td>\n",
       "      <td>WASHINGTON, March 9 (Reuters) - Republican sen...</td>\n",
       "      <td>REAL</td>\n",
       "    </tr>\n",
       "    <tr>\n",
       "      <th>640</th>\n",
       "      <td>2646</td>\n",
       "      <td>Guilty Verdict Returned In 'American Sniper' M...</td>\n",
       "      <td>A Texas jury reached a guilty verdict in the m...</td>\n",
       "      <td>REAL</td>\n",
       "    </tr>\n",
       "    <tr>\n",
       "      <th>2842</th>\n",
       "      <td>9731</td>\n",
       "      <td>Easy Street Recent Used Vinyl Arrivals!</td>\n",
       "      <td>Support Us Easy Street Recent Used Vinyl Arriv...</td>\n",
       "      <td>FAKE</td>\n",
       "    </tr>\n",
       "    <tr>\n",
       "      <th>4502</th>\n",
       "      <td>5737</td>\n",
       "      <td>The Myth of the McMahon Line</td>\n",
       "      <td>Recipient Email =&gt; \\nThere’s playing with fi...</td>\n",
       "      <td>FAKE</td>\n",
       "    </tr>\n",
       "    <tr>\n",
       "      <th>5363</th>\n",
       "      <td>5257</td>\n",
       "      <td>For Trump, a new ‘rigged’ system: The election...</td>\n",
       "      <td>Donald Trump, trailing narrowly in presidentia...</td>\n",
       "      <td>REAL</td>\n",
       "    </tr>\n",
       "    <tr>\n",
       "      <th>5660</th>\n",
       "      <td>10491</td>\n",
       "      <td>PressTV-‘Clintons worked with US enemies’</td>\n",
       "      <td>Interviews The FBI probe was inevitable “becau...</td>\n",
       "      <td>FAKE</td>\n",
       "    </tr>\n",
       "    <tr>\n",
       "      <th>4955</th>\n",
       "      <td>1683</td>\n",
       "      <td>Marco Rubio: Donald Trump's plan 'borders on t...</td>\n",
       "      <td>But he rejects the idea that Clinton's campaig...</td>\n",
       "      <td>REAL</td>\n",
       "    </tr>\n",
       "    <tr>\n",
       "      <th>1931</th>\n",
       "      <td>6196</td>\n",
       "      <td>BREAKING! — Hillary Clinton looks like a goner!</td>\n",
       "      <td>Wikileaks Just Released Her Full Isis Donor Li...</td>\n",
       "      <td>FAKE</td>\n",
       "    </tr>\n",
       "  </tbody>\n",
       "</table>\n",
       "<p>1267 rows × 4 columns</p>\n",
       "</div>"
      ],
      "text/plain": [
       "      Unnamed: 0                                              title  \\\n",
       "1227        7665  Bill Clinton’s Lover: He Called Ruthless Hilla...   \n",
       "5803        7784               Putin Takes On The NWO, October 2016   \n",
       "4976        1554    Sanders campaign sues DNC after database breach   \n",
       "1112        8527     Banana Republic Election in the United States?   \n",
       "6083        8503  Biden Blames “Lazy American Women” For The Eco...   \n",
       "1315        6943     Economic Nationalism: Alternative To Globalism   \n",
       "1445         534  Obama seeks to end sequester cuts, raise spend...   \n",
       "2390        6803  Comment on 11 Things To Let Go Of Before The N...   \n",
       "3785        8747  Only Geniuses & Schizophrenics Can Pass This 3...   \n",
       "5530        9831  Debunked: The Photo Of Obama With A Speech Bal...   \n",
       "3178        7848  Health Ranger to launch revolutionary, certifi...   \n",
       "1349        3380  Gowdy reveals subpoena Clinton claims she 'nev...   \n",
       "5799       10497  3 Charlotte Area Counties Report Voting Machin...   \n",
       "3822        9931  Is Robert Mugabe on his deathbed? UK planning ...   \n",
       "4008        4099  Just the Beginning? Religious Freedom, Gay Rig...   \n",
       "3531       10452  US Election an elaborate John Lewis Christmas ...   \n",
       "6283        2249  The GOP’s ludicrous Kim Davis primary: How rag...   \n",
       "2928        3278                           Is Mitch McConnell next?   \n",
       "3386       10409  Why Has Putin Pointed Russia's SATAN Nukes at ...   \n",
       "3354        6072                    What happened in this election?   \n",
       "1333        3059    New Study Shows Riots Make America Conservative   \n",
       "4936        8285  America’s Most Popular ‘Legal’ Drug is Respons...   \n",
       "5849        3473  Obamacare threatens John Roberts’s dream of a ...   \n",
       "3598        6054  BREAKING: Obama: “We Have Not Had a Major Scan...   \n",
       "911         7375  Shallow 5.4 magnitude earthquake rattles centr...   \n",
       "564         5028  Donald Trump Pushes Republican Party to Its Br...   \n",
       "2619        3969  Fate of Paris attack mastermind unclear after ...   \n",
       "628         6895            Meet The Man Who Started The Illuminati   \n",
       "3556        1225  Why Nevada was a bad sign for Bernie Sanders's...   \n",
       "2585       10496  The Products that Make Men Grow Breasts, Linke...   \n",
       "...          ...                                                ...   \n",
       "3907        7002  BREAKING : After Embarrassingly Low Turnout at...   \n",
       "3155        5347  Don’t Believe The Myth That Weightlifting Will...   \n",
       "2288        9228  NYPD Source: Weiner Laptop Has Enough Evidence...   \n",
       "2861        1033                      How Donald Trump sees himself   \n",
       "4506       10242  SC Gov. Nikki Haley Announces She’s Voting For...   \n",
       "3259        5216  Which States Can Gary Johnson and Jill Stein S...   \n",
       "1157       10538  An Angry John Podesta Issues A Statement On “R...   \n",
       "75          1506  Jeb Bush Picks Up Endorsement From Lindsey Graham   \n",
       "710         8332  MARKETWATCH LEFTIST: MSM’s “Blatant” Anti Trum...   \n",
       "1563        6244  NBC's Baghdad Bob: There Is No FBI Investigati...   \n",
       "413         3638  US officials scanning terror databases in sear...   \n",
       "3423        8268  Investors Intelligence Says Here Is The Key To...   \n",
       "4876         274                             Pleading for Paul Ryan   \n",
       "4922        9065  Would A Trump Presidency Make SJWs EVEN MORE A...   \n",
       "4444        6243  Putin's New Promise: 'I WILL DEFEAT THE ILLUMI...   \n",
       "2283          57  Million-dollar donors pump huge sums into 2016...   \n",
       "2961        7178   Load of manure dumped at Democratic headquarters   \n",
       "1804        4966  William Weld: Never Mind Libertarianism, He's ...   \n",
       "5254        7476  Freedom Center Urges College Presidents to End...   \n",
       "3474        6500  CNN Fired Donna Brazile 2 Weeks Ago, Made It P...   \n",
       "1484        8632  Donald Trump’s grandfather ran Canadian brothe...   \n",
       "4038        3049  The Supreme Court is just as polarized as the ...   \n",
       "3701        2213  Republicans Warn Iran Against Nuclear Deal Wit...   \n",
       "640         2646  Guilty Verdict Returned In 'American Sniper' M...   \n",
       "2842        9731            Easy Street Recent Used Vinyl Arrivals!   \n",
       "4502        5737                       The Myth of the McMahon Line   \n",
       "5363        5257  For Trump, a new ‘rigged’ system: The election...   \n",
       "5660       10491          PressTV-‘Clintons worked with US enemies’   \n",
       "4955        1683  Marco Rubio: Donald Trump's plan 'borders on t...   \n",
       "1931        6196    BREAKING! — Hillary Clinton looks like a goner!   \n",
       "\n",
       "                                                   text label  \n",
       "1227    Bill Clinton is a sex-addicted ‘monster’ who...  FAKE  \n",
       "5803  Putin Takes On The NWO, October 2016 # thinkbi...  FAKE  \n",
       "4976  Washington (CNN) Bernie Sanders' campaign on F...  REAL  \n",
       "1112  Banana Republic Election in the United States?...  FAKE  \n",
       "6083  Email \\n\\nDemocratic Vice President Joe Biden ...  FAKE  \n",
       "1315  in: Corporate Takeover , Economy & Business , ...  FAKE  \n",
       "1445  President Obama called for an end to \"mindless...  REAL  \n",
       "2390    The new year is almost here and it’s often a...  FAKE  \n",
       "3785  0 - items Only Geniuses & Schizophrenics Can P...  FAKE  \n",
       "5530  Email \\nIn an age where information can be spr...  FAKE  \n",
       "3178  • Slowed healing and recovery time• Increased ...  FAKE  \n",
       "1349  House Republicans investigating the 2012 attac...  REAL  \n",
       "5799  MecklenburgCatawba \\nThe complaints noted that...  FAKE  \n",
       "3822  Zimbabwe Daily — Oct 29, 2016 \\nLORD Peter Man...  FAKE  \n",
       "4008  Ten months after the Supreme Court passed a la...  REAL  \n",
       "3531                Adrian Bamforth   Adrian Bamforth    FAKE  \n",
       "6283  I hasten to underscore that I vigorously disag...  REAL  \n",
       "2928  (CNN) Conservatives at the Values Voter Summit...  REAL  \n",
       "3386  October 28, 2016 at 9:00 PM \\nWhy would Putin ...  FAKE  \n",
       "3354  What happened in this election? By John Chuckm...  FAKE  \n",
       "1333  The recent spate of protests against police br...  REAL  \n",
       "4936  Home / Health / America’s Most Popular ‘Legal’...  FAKE  \n",
       "5849  The first time the Affordable Care Act came be...  REAL  \n",
       "3598  0 comments Obama was speaking to donors at a p...  FAKE  \n",
       "911    00 UTC © USGS Map of the earthquake's epicent...  FAKE  \n",
       "564   Donald Trump has summoned a tornado of negativ...  REAL  \n",
       "2619  French investigators would not publicly identi...  REAL  \n",
       "628   Today, they are the source of ‘all conspiracy ...  FAKE  \n",
       "3556  It was bad news for Bernie Sanders that he los...  REAL  \n",
       "2585  Owned by Unilever, the Axe brand includes a ra...  FAKE  \n",
       "...                                                 ...   ...  \n",
       "3907  BREAKING : After Embarrassingly Low Turnout at...  FAKE  \n",
       "3155  Many older physical trainers, and even those y...  FAKE  \n",
       "2288  Leave a reply \\nSelwyn Duke – Sex crimes with ...  FAKE  \n",
       "2861  He trusts no one, and places a premium on reve...  REAL  \n",
       "4506  Massive Spike In Obamacare Health Premiums Cou...  FAKE  \n",
       "3259  Like his third-party forefathers, Gary Johnson...  REAL  \n",
       "1157  While Hillary has yet to address today’s stunn...  FAKE  \n",
       "75    Former GOP presidential hopeful Linsdey Graham...  REAL  \n",
       "710                                                      FAKE  \n",
       "1563  NBC's Baghdad Bob: There Is No FBI Investigati...  FAKE  \n",
       "413   U.S. counterterrorism officials are reviewing ...  REAL  \n",
       "3423  10 Views November 02, 2016 GOLD , KWN King Wor...  FAKE  \n",
       "4876  Top Dems want White House to call off Part B d...  REAL  \n",
       "4922  November 7, 2016, 8:05 pm A+ | a- Warning   \\n...  FAKE  \n",
       "4444  The Russian President Vladimir Putin has shown...  FAKE  \n",
       "2283  More than 50 individuals and entities have she...  REAL  \n",
       "2961  Print \\nA load of manure was dumped outside th...  FAKE  \n",
       "1804  Boston magazine has a long take on William Wel...  REAL  \n",
       "5254  Freedom Center Urges College Presidents to End...  FAKE  \n",
       "3474  \\n\\nCNN finally made it public that they have ...  FAKE  \n",
       "1484    Donald   says   Friedrich Trump amassed 'sub...  FAKE  \n",
       "4038  Recent years have seen concerns about politica...  REAL  \n",
       "3701  WASHINGTON, March 9 (Reuters) - Republican sen...  REAL  \n",
       "640   A Texas jury reached a guilty verdict in the m...  REAL  \n",
       "2842  Support Us Easy Street Recent Used Vinyl Arriv...  FAKE  \n",
       "4502    Recipient Email => \\nThere’s playing with fi...  FAKE  \n",
       "5363  Donald Trump, trailing narrowly in presidentia...  REAL  \n",
       "5660  Interviews The FBI probe was inevitable “becau...  FAKE  \n",
       "4955  But he rejects the idea that Clinton's campaig...  REAL  \n",
       "1931  Wikileaks Just Released Her Full Isis Donor Li...  FAKE  \n",
       "\n",
       "[1267 rows x 4 columns]"
      ]
     },
     "execution_count": 27,
     "metadata": {},
     "output_type": "execute_result"
    }
   ],
   "source": [
    "test_x"
   ]
  },
  {
   "cell_type": "code",
   "execution_count": 25,
   "metadata": {
    "collapsed": true
   },
   "outputs": [],
   "source": [
    "unique, counts = np.unique(train_y, return_counts=True)"
   ]
  },
  {
   "cell_type": "code",
   "execution_count": 26,
   "metadata": {},
   "outputs": [
    {
     "data": {
      "text/plain": [
       "{0: 2527, 1: 2541}"
      ]
     },
     "execution_count": 26,
     "metadata": {},
     "output_type": "execute_result"
    }
   ],
   "source": [
    "##counting distribution of classes in train\n",
    "dict(zip(unique, counts))"
   ]
  },
  {
   "cell_type": "code",
   "execution_count": 27,
   "metadata": {},
   "outputs": [
    {
     "data": {
      "text/plain": [
       "{0: 637, 1: 630}"
      ]
     },
     "execution_count": 27,
     "metadata": {},
     "output_type": "execute_result"
    }
   ],
   "source": [
    "##counting distribution of classes in test\n",
    "unique, counts = np.unique(test_y, return_counts=True)\n",
    "dict(zip(unique, counts))"
   ]
  },
  {
   "cell_type": "markdown",
   "metadata": {},
   "source": [
    "# 2: Extract Features"
   ]
  },
  {
   "cell_type": "markdown",
   "metadata": {},
   "source": [
    "### 2.0: Feature Sets\n",
    "1. TFIDF of Text and Title\n",
    "2. TFIDF of Text\n",
    "3. TFIDF of Title\n",
    "4. TFIDF of Text and Title + Bigrams\n",
    "5. TFIDF of Text + Bigrams\n",
    "6. TFIDF of Title + Bigrams"
   ]
  },
  {
   "cell_type": "code",
   "execution_count": 16,
   "metadata": {
    "collapsed": true
   },
   "outputs": [],
   "source": [
    "from sklearn.feature_extraction.text import TfidfVectorizer "
   ]
  },
  {
   "cell_type": "markdown",
   "metadata": {},
   "source": [
    "### 2.1: TFIDF Title"
   ]
  },
  {
   "cell_type": "code",
   "execution_count": 17,
   "metadata": {
    "collapsed": true
   },
   "outputs": [],
   "source": [
    "tf_title = TfidfVectorizer(min_df=1,stop_words='english',max_features=100, lowercase=True)\n",
    "title_x_tfidf = tf_title.fit_transform(title_no_stops)\n",
    "title_x_tfidf_array = title_x_tfidf.toarray()\n",
    "# tf_title.get_feature_names()"
   ]
  },
  {
   "cell_type": "markdown",
   "metadata": {},
   "source": [
    "### 2.2: TFIDF of Text"
   ]
  },
  {
   "cell_type": "code",
   "execution_count": 18,
   "metadata": {
    "collapsed": true
   },
   "outputs": [],
   "source": [
    "tf_text = TfidfVectorizer(min_df=1,stop_words='english',max_features=1500, lowercase=True)\n",
    "text_x_tfidf = tf_text.fit_transform(lower_text)\n",
    "text_x_tfidf_array = text_x_tfidf.toarray()\n"
   ]
  },
  {
   "cell_type": "markdown",
   "metadata": {},
   "source": [
    "### 2.3 TFIDF of Title and Text "
   ]
  },
  {
   "cell_type": "code",
   "execution_count": 19,
   "metadata": {
    "collapsed": true
   },
   "outputs": [],
   "source": [
    "tf_combined = TfidfVectorizer(min_df=1,stop_words='english',max_features=2000, lowercase=True)\n",
    "combined_tfidf = tf_combined.fit_transform(combined_text_title)\n",
    "combined_tfidf_array = combined_tfidf.toarray()"
   ]
  },
  {
   "cell_type": "markdown",
   "metadata": {},
   "source": [
    "### 2.4 TFIDF  Combined Vectors"
   ]
  },
  {
   "cell_type": "code",
   "execution_count": 20,
   "metadata": {
    "collapsed": true
   },
   "outputs": [],
   "source": [
    "combined= np.hstack((title_x_tfidf_array, text_x_tfidf_array))"
   ]
  },
  {
   "cell_type": "markdown",
   "metadata": {},
   "source": [
    "### 2.5: Sentiment"
   ]
  },
  {
   "cell_type": "markdown",
   "metadata": {},
   "source": [
    "### 2.6: Linguistic Features"
   ]
  },
  {
   "cell_type": "markdown",
   "metadata": {
    "collapsed": true
   },
   "source": [
    "## 4: Models and Evaluation"
   ]
  },
  {
   "cell_type": "code",
   "execution_count": 29,
   "metadata": {
    "collapsed": true
   },
   "outputs": [],
   "source": [
    "from sklearn.model_selection import cross_val_score "
   ]
  },
  {
   "cell_type": "markdown",
   "metadata": {},
   "source": [
    "Reminder of variables:\n",
    "y: stores converted labels\n",
    "combined_tfidf_array: stores feature array of tfidf of titles and text\n",
    "title_x_tfidf_array\n",
    "text_x_tfidf_array"
   ]
  },
  {
   "cell_type": "markdown",
   "metadata": {},
   "source": [
    "### 4.0: Cross Validate Method"
   ]
  },
  {
   "cell_type": "code",
   "execution_count": 30,
   "metadata": {
    "collapsed": true
   },
   "outputs": [],
   "source": [
    "\"\"\"\n",
    "name: avg_cross_val\n",
    "in: \n",
    "    classifier (object that implements fit)\n",
    "    x (features)\n",
    "    y (labels)\n",
    "    cv (either number of desired folds or cross validation object)\n",
    "out: returns average score from array of scores from cross_val_score\n",
    "\"\"\"\n",
    "def cross_val(classifier, x, y, cv):\n",
    "    return np.mean(cross_val_score(classifier, x, y, cv=cv))\n",
    "\n",
    "    "
   ]
  },
  {
   "cell_type": "markdown",
   "metadata": {},
   "source": [
    "### 4.1: Naive Bayes"
   ]
  },
  {
   "cell_type": "code",
   "execution_count": 31,
   "metadata": {
    "collapsed": true
   },
   "outputs": [],
   "source": [
    "from sklearn.naive_bayes import MultinomialNB"
   ]
  },
  {
   "cell_type": "markdown",
   "metadata": {},
   "source": [
    "#### 4.1.1: TFIDF of Titles"
   ]
  },
  {
   "cell_type": "code",
   "execution_count": 32,
   "metadata": {},
   "outputs": [
    {
     "data": {
      "text/plain": [
       "0.6632931649088738"
      ]
     },
     "execution_count": 32,
     "metadata": {},
     "output_type": "execute_result"
    }
   ],
   "source": [
    "mnb1= MultinomialNB(alpha=1)\n",
    "cross_val(mnb1, title_x_tfidf_array, y, 10)"
   ]
  },
  {
   "cell_type": "markdown",
   "metadata": {},
   "source": [
    "#### 4.1.2: TFIDF of Text"
   ]
  },
  {
   "cell_type": "code",
   "execution_count": 33,
   "metadata": {},
   "outputs": [
    {
     "data": {
      "text/plain": [
       "0.85619072351704395"
      ]
     },
     "execution_count": 33,
     "metadata": {},
     "output_type": "execute_result"
    }
   ],
   "source": [
    "mnb2= MultinomialNB(alpha=1)\n",
    "cross_val(mnb2, text_x_tfidf_array, y, 10)"
   ]
  },
  {
   "cell_type": "markdown",
   "metadata": {},
   "source": [
    "#### 4.1.3 TFIDF of Text and Titles Combined"
   ]
  },
  {
   "cell_type": "code",
   "execution_count": 34,
   "metadata": {},
   "outputs": [
    {
     "data": {
      "text/plain": [
       "0.86376967665173687"
      ]
     },
     "execution_count": 34,
     "metadata": {},
     "output_type": "execute_result"
    }
   ],
   "source": [
    "mnb3= MultinomialNB(alpha=1)\n",
    "cross_val(mnb3, combined_tfidf_array, y, 10)"
   ]
  },
  {
   "cell_type": "markdown",
   "metadata": {},
   "source": [
    "#### 4.1.4: testing out trying to combine two vectors"
   ]
  },
  {
   "cell_type": "code",
   "execution_count": 35,
   "metadata": {},
   "outputs": [
    {
     "data": {
      "text/plain": [
       "0.85256146742103966"
      ]
     },
     "execution_count": 35,
     "metadata": {},
     "output_type": "execute_result"
    }
   ],
   "source": [
    "mnb4= MultinomialNB(alpha=1)\n",
    "cross_val(mnb4, combined, y, 10)"
   ]
  },
  {
   "cell_type": "markdown",
   "metadata": {},
   "source": [
    "### 4.2: Random Forest"
   ]
  },
  {
   "cell_type": "code",
   "execution_count": 36,
   "metadata": {
    "collapsed": true
   },
   "outputs": [],
   "source": [
    "from sklearn.ensemble import RandomForestClassifier"
   ]
  },
  {
   "cell_type": "markdown",
   "metadata": {},
   "source": [
    "#### 4.2.1: TFIDF of Titles"
   ]
  },
  {
   "cell_type": "code",
   "execution_count": 37,
   "metadata": {},
   "outputs": [
    {
     "data": {
      "text/plain": [
       "0.69644833706489817"
      ]
     },
     "execution_count": 37,
     "metadata": {},
     "output_type": "execute_result"
    }
   ],
   "source": [
    "forest1 = RandomForestClassifier(max_depth=10,n_estimators=100,min_samples_leaf=2)\n",
    "cross_val(forest1, title_x_tfidf_array, y, 10)"
   ]
  },
  {
   "cell_type": "markdown",
   "metadata": {},
   "source": [
    "#### 4.2.2: TFIDF of Text"
   ]
  },
  {
   "cell_type": "code",
   "execution_count": 38,
   "metadata": {},
   "outputs": [
    {
     "data": {
      "text/plain": [
       "0.87135211747222674"
      ]
     },
     "execution_count": 38,
     "metadata": {},
     "output_type": "execute_result"
    }
   ],
   "source": [
    "forest2 = RandomForestClassifier(max_depth=10,n_estimators=100,min_samples_leaf=2)\n",
    "cross_val(forest2, text_x_tfidf_array, y, 10)"
   ]
  },
  {
   "cell_type": "markdown",
   "metadata": {},
   "source": [
    "#### 4.2.3 TFIDF of Text and Titles Combined"
   ]
  },
  {
   "cell_type": "code",
   "execution_count": 39,
   "metadata": {},
   "outputs": [
    {
     "data": {
      "text/plain": [
       "0.87292791026444994"
      ]
     },
     "execution_count": 39,
     "metadata": {},
     "output_type": "execute_result"
    }
   ],
   "source": [
    "forest3 = RandomForestClassifier(max_depth=10,n_estimators=100,min_samples_leaf=2)\n",
    "cross_val(forest3, combined_tfidf_array, y, 10)"
   ]
  },
  {
   "cell_type": "markdown",
   "metadata": {},
   "source": [
    "#### 4.4.4: testing out trying to combine two vectors"
   ]
  },
  {
   "cell_type": "code",
   "execution_count": 40,
   "metadata": {},
   "outputs": [
    {
     "data": {
      "text/plain": [
       "0.87087818303812981"
      ]
     },
     "execution_count": 40,
     "metadata": {},
     "output_type": "execute_result"
    }
   ],
   "source": [
    "forest4 = RandomForestClassifier(max_depth=10,n_estimators=100,min_samples_leaf=2)\n",
    "cross_val(forest4, combined, y, 10)"
   ]
  },
  {
   "cell_type": "code",
   "execution_count": 41,
   "metadata": {},
   "outputs": [
    {
     "data": {
      "text/plain": [
       "'\\nIDEAS:\\nput all feature sets in an array\\nmake a features method that takes in diff tuning parameters\\nmake a method that takes in a model and tests it on different featuresets and diff parameters and prints results in chart\\n'"
      ]
     },
     "execution_count": 41,
     "metadata": {},
     "output_type": "execute_result"
    }
   ],
   "source": [
    "\"\"\"\n",
    "IDEAS:\n",
    "put all feature sets in an array\n",
    "make a features method that takes in diff tuning parameters\n",
    "make a method that takes in a model and tests it on different featuresets and diff parameters and prints results in chart\n",
    "\"\"\" "
   ]
  },
  {
   "cell_type": "markdown",
   "metadata": {
    "collapsed": true
   },
   "source": [
    "### 4.5: Support Vector Machine"
   ]
  },
  {
   "cell_type": "code",
   "execution_count": 42,
   "metadata": {
    "collapsed": true
   },
   "outputs": [],
   "source": [
    "from sklearn import svm\n",
    "from sklearn.svm import SVC"
   ]
  },
  {
   "cell_type": "markdown",
   "metadata": {},
   "source": [
    "#### 4.5.1TFIDF of Titles"
   ]
  },
  {
   "cell_type": "code",
   "execution_count": 43,
   "metadata": {},
   "outputs": [
    {
     "data": {
      "text/plain": [
       "0.72738436632284631"
      ]
     },
     "execution_count": 43,
     "metadata": {},
     "output_type": "execute_result"
    }
   ],
   "source": [
    "svm1 = SVC(gamma='auto')\n",
    "cross_val(svm1, title_x_tfidf_array, y, 10)"
   ]
  },
  {
   "cell_type": "markdown",
   "metadata": {},
   "source": [
    "#### 4.5.2 TFIDF of Text"
   ]
  },
  {
   "cell_type": "code",
   "execution_count": null,
   "metadata": {},
   "outputs": [
    {
     "data": {
      "text/plain": [
       "0.50055267380676938"
      ]
     },
     "execution_count": 44,
     "metadata": {},
     "output_type": "execute_result"
    }
   ],
   "source": [
    "svm2=SVC(gamma='auto')\n",
    "cross_val(svm2, text_x_tfidf_array, y, 10)"
   ]
  },
  {
   "cell_type": "markdown",
   "metadata": {},
   "source": [
    "#### 4.5.3 TFIDF of Text and Titles Combined"
   ]
  },
  {
   "cell_type": "code",
   "execution_count": null,
   "metadata": {
    "collapsed": true
   },
   "outputs": [],
   "source": [
    "svm3=SVC(gamma='auto')\n",
    "cross_val(svm3, combined_tfidf_array, y, 10)"
   ]
  },
  {
   "cell_type": "markdown",
   "metadata": {},
   "source": [
    "#### 4.5.4 TFIDF Combined Vector"
   ]
  },
  {
   "cell_type": "code",
   "execution_count": null,
   "metadata": {
    "collapsed": true
   },
   "outputs": [],
   "source": [
    "svm4=SVC(gamma='auto')\n",
    "cross_val(svm4, combined, y, 10)"
   ]
  },
  {
   "cell_type": "markdown",
   "metadata": {},
   "source": []
  }
 ],
 "metadata": {
  "kernelspec": {
   "display_name": "Python 3",
   "language": "python",
   "name": "python3"
  },
  "language_info": {
   "codemirror_mode": {
    "name": "ipython",
    "version": 3
   },
   "file_extension": ".py",
   "mimetype": "text/x-python",
   "name": "python",
   "nbconvert_exporter": "python",
   "pygments_lexer": "ipython3",
   "version": "3.6.1"
  }
 },
 "nbformat": 4,
 "nbformat_minor": 2
}
