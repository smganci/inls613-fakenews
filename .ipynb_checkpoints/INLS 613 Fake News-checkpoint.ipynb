{
 "cells": [
  {
   "cell_type": "markdown",
   "metadata": {},
   "source": [
    "# INLS 613: Fake News Detection"
   ]
  },
  {
   "cell_type": "markdown",
   "metadata": {},
   "source": [
    "## 0: Import Libraries"
   ]
  },
  {
   "cell_type": "code",
   "execution_count": 91,
   "metadata": {
    "collapsed": true
   },
   "outputs": [],
   "source": [
    "import pandas as pd\n",
    "import numpy as np\n",
    "import scipy"
   ]
  },
  {
   "cell_type": "markdown",
   "metadata": {},
   "source": [
    "## 1: Data"
   ]
  },
  {
   "cell_type": "markdown",
   "metadata": {},
   "source": [
    "### 1.1: Read in Data"
   ]
  },
  {
   "cell_type": "code",
   "execution_count": 92,
   "metadata": {
    "collapsed": true
   },
   "outputs": [],
   "source": [
    "df = pd.read_csv(\"fake_or_real_news.csv/fake_or_real_news.csv\",encoding='utf-8')"
   ]
  },
  {
   "cell_type": "code",
   "execution_count": 93,
   "metadata": {},
   "outputs": [
    {
     "data": {
      "text/html": [
       "<div>\n",
       "<style>\n",
       "    .dataframe thead tr:only-child th {\n",
       "        text-align: right;\n",
       "    }\n",
       "\n",
       "    .dataframe thead th {\n",
       "        text-align: left;\n",
       "    }\n",
       "\n",
       "    .dataframe tbody tr th {\n",
       "        vertical-align: top;\n",
       "    }\n",
       "</style>\n",
       "<table border=\"1\" class=\"dataframe\">\n",
       "  <thead>\n",
       "    <tr style=\"text-align: right;\">\n",
       "      <th></th>\n",
       "      <th>Unnamed: 0</th>\n",
       "      <th>title</th>\n",
       "      <th>text</th>\n",
       "      <th>label</th>\n",
       "    </tr>\n",
       "  </thead>\n",
       "  <tbody>\n",
       "    <tr>\n",
       "      <th>0</th>\n",
       "      <td>8476</td>\n",
       "      <td>You Can Smell Hillary’s Fear</td>\n",
       "      <td>Daniel Greenfield, a Shillman Journalism Fello...</td>\n",
       "      <td>FAKE</td>\n",
       "    </tr>\n",
       "    <tr>\n",
       "      <th>1</th>\n",
       "      <td>10294</td>\n",
       "      <td>Watch The Exact Moment Paul Ryan Committed Pol...</td>\n",
       "      <td>Google Pinterest Digg Linkedin Reddit Stumbleu...</td>\n",
       "      <td>FAKE</td>\n",
       "    </tr>\n",
       "  </tbody>\n",
       "</table>\n",
       "</div>"
      ],
      "text/plain": [
       "   Unnamed: 0                                              title  \\\n",
       "0        8476                       You Can Smell Hillary’s Fear   \n",
       "1       10294  Watch The Exact Moment Paul Ryan Committed Pol...   \n",
       "\n",
       "                                                text label  \n",
       "0  Daniel Greenfield, a Shillman Journalism Fello...  FAKE  \n",
       "1  Google Pinterest Digg Linkedin Reddit Stumbleu...  FAKE  "
      ]
     },
     "execution_count": 93,
     "metadata": {},
     "output_type": "execute_result"
    }
   ],
   "source": [
    "df.head(2)\n",
    "# encoding or wierd characters??"
   ]
  },
  {
   "cell_type": "code",
   "execution_count": 94,
   "metadata": {},
   "outputs": [
    {
     "data": {
      "text/plain": [
       "array(['FAKE', 'REAL'], dtype=object)"
      ]
     },
     "execution_count": 94,
     "metadata": {},
     "output_type": "execute_result"
    }
   ],
   "source": [
    "df['label'].unique()"
   ]
  },
  {
   "cell_type": "code",
   "execution_count": 95,
   "metadata": {},
   "outputs": [
    {
     "data": {
      "text/plain": [
       "Index(['Unnamed: 0', 'title', 'text', 'label'], dtype='object')"
      ]
     },
     "execution_count": 95,
     "metadata": {},
     "output_type": "execute_result"
    }
   ],
   "source": [
    "df.columns"
   ]
  },
  {
   "cell_type": "code",
   "execution_count": 96,
   "metadata": {},
   "outputs": [
    {
     "data": {
      "text/plain": [
       "REAL    3171\n",
       "FAKE    3164\n",
       "Name: label, dtype: int64"
      ]
     },
     "execution_count": 96,
     "metadata": {},
     "output_type": "execute_result"
    }
   ],
   "source": [
    "df['label'].value_counts()"
   ]
  },
  {
   "cell_type": "markdown",
   "metadata": {},
   "source": [
    "### Preprocessing"
   ]
  },
  {
   "cell_type": "markdown",
   "metadata": {},
   "source": [
    "downcasing, tokenization, markup removal"
   ]
  },
  {
   "cell_type": "code",
   "execution_count": 2,
   "metadata": {
    "collapsed": true
   },
   "outputs": [],
   "source": [
    "from sklearn.feature_extraction.text import CountVectorizer"
   ]
  },
  {
   "cell_type": "code",
   "execution_count": 3,
   "metadata": {},
   "outputs": [],
   "source": [
    "count_vect = CountVectorizer(lowercase=True)"
   ]
  },
  {
   "cell_type": "code",
   "execution_count": 136,
   "metadata": {},
   "outputs": [
    {
     "data": {
      "text/plain": [
       "<4x4 sparse matrix of type '<class 'numpy.int64'>'\n",
       "\twith 4 stored elements in Compressed Sparse Row format>"
      ]
     },
     "execution_count": 136,
     "metadata": {},
     "output_type": "execute_result"
    }
   ],
   "source": [
    "X_train_counts = count_vect.fit_transform(df)\n",
    "X_train_counts.shape\n",
    "X_train_counts"
   ]
  },
  {
   "cell_type": "markdown",
   "metadata": {},
   "source": [
    "### 1.2: Convert Labels"
   ]
  },
  {
   "cell_type": "code",
   "execution_count": 97,
   "metadata": {
    "collapsed": true
   },
   "outputs": [],
   "source": [
    "from sklearn import preprocessing ### Importing a preprocessor to convert the labels in the target class. "
   ]
  },
  {
   "cell_type": "code",
   "execution_count": 98,
   "metadata": {},
   "outputs": [
    {
     "data": {
      "text/plain": [
       "LabelEncoder()"
      ]
     },
     "execution_count": 98,
     "metadata": {},
     "output_type": "execute_result"
    }
   ],
   "source": [
    "data_class_y= [ 'FAKE', 'REAL']\n",
    "le= preprocessing.LabelEncoder()\n",
    "le.fit(data_class_y)\n",
    "#appears to make fake 0 and Real 1 no matter what-why?"
   ]
  },
  {
   "cell_type": "code",
   "execution_count": 99,
   "metadata": {
    "collapsed": true
   },
   "outputs": [],
   "source": [
    "y=le.transform(df['label']);"
   ]
  },
  {
   "cell_type": "code",
   "execution_count": 100,
   "metadata": {},
   "outputs": [
    {
     "data": {
      "text/plain": [
       "array([0, 0, 1, ..., 0, 1, 1], dtype=int64)"
      ]
     },
     "execution_count": 100,
     "metadata": {},
     "output_type": "execute_result"
    }
   ],
   "source": [
    "y"
   ]
  },
  {
   "cell_type": "markdown",
   "metadata": {},
   "source": [
    "### 1.3: Split Train and Test Data"
   ]
  },
  {
   "cell_type": "code",
   "execution_count": 101,
   "metadata": {
    "collapsed": true
   },
   "outputs": [],
   "source": [
    "from sklearn.model_selection import train_test_split"
   ]
  },
  {
   "cell_type": "code",
   "execution_count": 124,
   "metadata": {
    "collapsed": true
   },
   "outputs": [],
   "source": [
    "train_x, test_x, train_y, test_y = train_test_split(df['text'], y, train_size=.8, random_state=5)"
   ]
  },
  {
   "cell_type": "code",
   "execution_count": 125,
   "metadata": {},
   "outputs": [
    {
     "data": {
      "text/plain": [
       "(5068,)"
      ]
     },
     "execution_count": 125,
     "metadata": {},
     "output_type": "execute_result"
    }
   ],
   "source": [
    "train_x.shape"
   ]
  },
  {
   "cell_type": "code",
   "execution_count": 126,
   "metadata": {},
   "outputs": [
    {
     "data": {
      "text/plain": [
       "(5068,)"
      ]
     },
     "execution_count": 126,
     "metadata": {},
     "output_type": "execute_result"
    }
   ],
   "source": [
    "train_y.shape"
   ]
  },
  {
   "cell_type": "code",
   "execution_count": 127,
   "metadata": {
    "collapsed": true
   },
   "outputs": [],
   "source": [
    "#print(\"fake: \"+train_y.tolist().count(\"0\")+\"real: \"+ train_y.tolist().count(1))"
   ]
  },
  {
   "cell_type": "code",
   "execution_count": 128,
   "metadata": {
    "collapsed": true
   },
   "outputs": [],
   "source": [
    "unique, counts = np.unique(train_y, return_counts=True)"
   ]
  },
  {
   "cell_type": "code",
   "execution_count": 129,
   "metadata": {},
   "outputs": [
    {
     "data": {
      "text/plain": [
       "{0: 2527, 1: 2541}"
      ]
     },
     "execution_count": 129,
     "metadata": {},
     "output_type": "execute_result"
    }
   ],
   "source": [
    "dict(zip(unique, counts))"
   ]
  },
  {
   "cell_type": "code",
   "execution_count": 130,
   "metadata": {},
   "outputs": [
    {
     "data": {
      "text/plain": [
       "{0: 637, 1: 630}"
      ]
     },
     "execution_count": 130,
     "metadata": {},
     "output_type": "execute_result"
    }
   ],
   "source": [
    "unique, counts = np.unique(test_y, return_counts=True)\n",
    "dict(zip(unique, counts))"
   ]
  },
  {
   "cell_type": "markdown",
   "metadata": {},
   "source": [
    "### 1.4: Extract Features"
   ]
  },
  {
   "cell_type": "code",
   "execution_count": 65,
   "metadata": {
    "collapsed": true
   },
   "outputs": [],
   "source": [
    "train_x = df['text']"
   ]
  },
  {
   "cell_type": "code",
   "execution_count": 66,
   "metadata": {},
   "outputs": [
    {
     "data": {
      "text/plain": [
       "(6335,)"
      ]
     },
     "execution_count": 66,
     "metadata": {},
     "output_type": "execute_result"
    }
   ],
   "source": [
    "train_x.shape"
   ]
  },
  {
   "cell_type": "code",
   "execution_count": 37,
   "metadata": {
    "collapsed": true
   },
   "outputs": [],
   "source": [
    "from sklearn.feature_extraction.text import TfidfVectorizer "
   ]
  },
  {
   "cell_type": "code",
   "execution_count": 38,
   "metadata": {
    "collapsed": true
   },
   "outputs": [],
   "source": [
    "tf = TfidfVectorizer(min_df=1,stop_words='english',max_features=5000)"
   ]
  },
  {
   "cell_type": "code",
   "execution_count": 39,
   "metadata": {
    "collapsed": true
   },
   "outputs": [],
   "source": [
    "train_x_tfidf = tf.fit_transform(train_x)"
   ]
  },
  {
   "cell_type": "code",
   "execution_count": 40,
   "metadata": {},
   "outputs": [
    {
     "data": {
      "text/plain": [
       "['00',\n",
       " '000',\n",
       " '10',\n",
       " '100',\n",
       " '11',\n",
       " '12',\n",
       " '13',\n",
       " '14',\n",
       " '15',\n",
       " '150',\n",
       " '16',\n",
       " '17',\n",
       " '18',\n",
       " '19',\n",
       " '1948',\n",
       " '1960s',\n",
       " '1968',\n",
       " '1970s',\n",
       " '1980',\n",
       " '1980s',\n",
       " '1988',\n",
       " '1990',\n",
       " '1990s',\n",
       " '1991',\n",
       " '1992',\n",
       " '1993',\n",
       " '1994',\n",
       " '1995',\n",
       " '1996',\n",
       " '1997',\n",
       " '1998',\n",
       " '1999',\n",
       " '20',\n",
       " '200',\n",
       " '2000',\n",
       " '2001',\n",
       " '2002',\n",
       " '2003',\n",
       " '2004',\n",
       " '2005',\n",
       " '2006',\n",
       " '2007',\n",
       " '2008',\n",
       " '2009',\n",
       " '2010',\n",
       " '2011',\n",
       " '2012',\n",
       " '2013',\n",
       " '2014',\n",
       " '2015',\n",
       " '2016',\n",
       " '2017',\n",
       " '2018',\n",
       " '2020',\n",
       " '20th',\n",
       " '21',\n",
       " '21st',\n",
       " '22',\n",
       " '23',\n",
       " '237',\n",
       " '24',\n",
       " '25',\n",
       " '250',\n",
       " '26',\n",
       " '27',\n",
       " '28',\n",
       " '29',\n",
       " '30',\n",
       " '300',\n",
       " '31',\n",
       " '32',\n",
       " '33',\n",
       " '34',\n",
       " '35',\n",
       " '36',\n",
       " '37',\n",
       " '38',\n",
       " '39',\n",
       " '40',\n",
       " '400',\n",
       " '41',\n",
       " '42',\n",
       " '43',\n",
       " '44',\n",
       " '45',\n",
       " '46',\n",
       " '47',\n",
       " '48',\n",
       " '49',\n",
       " '50',\n",
       " '500',\n",
       " '51',\n",
       " '52',\n",
       " '53',\n",
       " '54',\n",
       " '55',\n",
       " '56',\n",
       " '57',\n",
       " '58',\n",
       " '60',\n",
       " '600',\n",
       " '61',\n",
       " '62',\n",
       " '64',\n",
       " '65',\n",
       " '66',\n",
       " '67',\n",
       " '68',\n",
       " '70',\n",
       " '700',\n",
       " '75',\n",
       " '80',\n",
       " '800',\n",
       " '85',\n",
       " '8th',\n",
       " '90',\n",
       " '95',\n",
       " '99',\n",
       " 'abandon',\n",
       " 'abandoned',\n",
       " 'abc',\n",
       " 'abdullah',\n",
       " 'abedin',\n",
       " 'ability',\n",
       " 'able',\n",
       " 'abortion',\n",
       " 'abortions',\n",
       " 'abroad',\n",
       " 'absence',\n",
       " 'absolute',\n",
       " 'absolutely',\n",
       " 'absurd',\n",
       " 'abuse',\n",
       " 'abuses',\n",
       " 'academic',\n",
       " 'academy',\n",
       " 'accept',\n",
       " 'acceptable',\n",
       " 'acceptance',\n",
       " 'accepted',\n",
       " 'accepting',\n",
       " 'access',\n",
       " 'accompanied',\n",
       " 'accomplish',\n",
       " 'accomplished',\n",
       " 'according',\n",
       " 'account',\n",
       " 'accountability',\n",
       " 'accountable',\n",
       " 'accounts',\n",
       " 'accurate',\n",
       " 'accusations',\n",
       " 'accused',\n",
       " 'accusing',\n",
       " 'achieve',\n",
       " 'achieved',\n",
       " 'acknowledge',\n",
       " 'acknowledged',\n",
       " 'act',\n",
       " 'acted',\n",
       " 'acting',\n",
       " 'action',\n",
       " 'actions',\n",
       " 'active',\n",
       " 'actively',\n",
       " 'activist',\n",
       " 'activists',\n",
       " 'activities',\n",
       " 'activity',\n",
       " 'actors',\n",
       " 'acts',\n",
       " 'actual',\n",
       " 'actually',\n",
       " 'ad',\n",
       " 'adam',\n",
       " 'add',\n",
       " 'added',\n",
       " 'adding',\n",
       " 'addition',\n",
       " 'additional',\n",
       " 'additionally',\n",
       " 'address',\n",
       " 'addressed',\n",
       " 'addresses',\n",
       " 'addressing',\n",
       " 'adds',\n",
       " 'administration',\n",
       " 'administrationâ',\n",
       " 'administrative',\n",
       " 'admiral',\n",
       " 'admit',\n",
       " 'admits',\n",
       " 'admitted',\n",
       " 'admitting',\n",
       " 'adopt',\n",
       " 'adopted',\n",
       " 'ads',\n",
       " 'adult',\n",
       " 'adults',\n",
       " 'advance',\n",
       " 'advanced',\n",
       " 'advantage',\n",
       " 'advertisement',\n",
       " 'advertising',\n",
       " 'advice',\n",
       " 'advised',\n",
       " 'adviser',\n",
       " 'advisers',\n",
       " 'advisor',\n",
       " 'advocacy',\n",
       " 'advocate',\n",
       " 'advocates',\n",
       " 'affair',\n",
       " 'affairs',\n",
       " 'affect',\n",
       " 'affected',\n",
       " 'afford',\n",
       " 'affordable',\n",
       " 'afghan',\n",
       " 'afghanistan',\n",
       " 'afraid',\n",
       " 'africa',\n",
       " 'african',\n",
       " 'aftermath',\n",
       " 'afternoon',\n",
       " 'age',\n",
       " 'agencies',\n",
       " 'agency',\n",
       " 'agenda',\n",
       " 'agent',\n",
       " 'agents',\n",
       " 'ages',\n",
       " 'aggression',\n",
       " 'aggressive',\n",
       " 'aggressively',\n",
       " 'ago',\n",
       " 'agree',\n",
       " 'agreed',\n",
       " 'agreement',\n",
       " 'agreements',\n",
       " 'ahead',\n",
       " 'aid',\n",
       " 'aide',\n",
       " 'aides',\n",
       " 'aim',\n",
       " 'aimed',\n",
       " 'aims',\n",
       " 'air',\n",
       " 'aircraft',\n",
       " 'airport',\n",
       " 'airspace',\n",
       " 'airstrikes',\n",
       " 'aisle',\n",
       " 'al',\n",
       " 'alabama',\n",
       " 'alan',\n",
       " 'alarm',\n",
       " 'alaska',\n",
       " 'alcohol',\n",
       " 'aleppo',\n",
       " 'alert',\n",
       " 'alex',\n",
       " 'alexander',\n",
       " 'ali',\n",
       " 'alien',\n",
       " 'aliens',\n",
       " 'aligned',\n",
       " 'alike',\n",
       " 'alive',\n",
       " 'allegations',\n",
       " 'alleged',\n",
       " 'allegedly',\n",
       " 'allegiance',\n",
       " 'alliance',\n",
       " 'allied',\n",
       " 'allies',\n",
       " 'allow',\n",
       " 'allowed',\n",
       " 'allowing',\n",
       " 'allows',\n",
       " 'ally',\n",
       " 'alongside',\n",
       " 'alt',\n",
       " 'alternative',\n",
       " 'altogether',\n",
       " 'amazing',\n",
       " 'ambassador',\n",
       " 'ambitions',\n",
       " 'ambitious',\n",
       " 'amendment',\n",
       " 'amendments',\n",
       " 'america',\n",
       " 'american',\n",
       " 'americans',\n",
       " 'americaâ',\n",
       " 'amid',\n",
       " 'ammunition',\n",
       " 'amnesty',\n",
       " 'amounts',\n",
       " 'amy',\n",
       " 'analysis',\n",
       " 'analyst',\n",
       " 'analysts',\n",
       " 'anchor',\n",
       " 'ancient',\n",
       " 'anderson',\n",
       " 'andrew',\n",
       " 'andâ',\n",
       " 'angeles',\n",
       " 'anger',\n",
       " 'angry',\n",
       " 'animal',\n",
       " 'animals',\n",
       " 'ann',\n",
       " 'anniversary',\n",
       " 'announce',\n",
       " 'announced',\n",
       " 'announcement',\n",
       " 'announcing',\n",
       " 'annual',\n",
       " 'anonymity',\n",
       " 'anonymous',\n",
       " 'answer',\n",
       " 'answered',\n",
       " 'answers',\n",
       " 'anthony',\n",
       " 'anti',\n",
       " 'antonin',\n",
       " 'anxiety',\n",
       " 'anybody',\n",
       " 'anymore',\n",
       " 'ap',\n",
       " 'apart',\n",
       " 'apartment',\n",
       " 'apologize',\n",
       " 'apology',\n",
       " 'apparent',\n",
       " 'apparently',\n",
       " 'appeal',\n",
       " 'appealing',\n",
       " 'appeals',\n",
       " 'appear',\n",
       " 'appearance',\n",
       " 'appearances',\n",
       " 'appeared',\n",
       " 'appearing',\n",
       " 'appears',\n",
       " 'applause',\n",
       " 'apple',\n",
       " 'application',\n",
       " 'applied',\n",
       " 'apply',\n",
       " 'appoint',\n",
       " 'appointed',\n",
       " 'appointment',\n",
       " 'appreciate',\n",
       " 'approach',\n",
       " 'approaches',\n",
       " 'appropriate',\n",
       " 'approval',\n",
       " 'approve',\n",
       " 'approved',\n",
       " 'approximately',\n",
       " 'april',\n",
       " 'arab',\n",
       " 'arabia',\n",
       " 'arabs',\n",
       " 'arctic',\n",
       " 'area',\n",
       " 'areas',\n",
       " 'aren',\n",
       " 'arena',\n",
       " 'arenâ',\n",
       " 'arguably',\n",
       " 'argue',\n",
       " 'argued',\n",
       " 'argues',\n",
       " 'arguing',\n",
       " 'argument',\n",
       " 'arguments',\n",
       " 'arizona',\n",
       " 'arkansas',\n",
       " 'arm',\n",
       " 'armed',\n",
       " 'arms',\n",
       " 'army',\n",
       " 'arrangement',\n",
       " 'arrest',\n",
       " 'arrested',\n",
       " 'arrests',\n",
       " 'arrive',\n",
       " 'arrived',\n",
       " 'art',\n",
       " 'article',\n",
       " 'articles',\n",
       " 'asia',\n",
       " 'asian',\n",
       " 'aside',\n",
       " 'ask',\n",
       " 'asked',\n",
       " 'asking',\n",
       " 'asks',\n",
       " 'aspect',\n",
       " 'aspects',\n",
       " 'assad',\n",
       " 'assange',\n",
       " 'assassination',\n",
       " 'assault',\n",
       " 'assembly',\n",
       " 'assertion',\n",
       " 'assess',\n",
       " 'assessment',\n",
       " 'asset',\n",
       " 'assets',\n",
       " 'assist',\n",
       " 'assistance',\n",
       " 'assistant',\n",
       " 'associate',\n",
       " 'associated',\n",
       " 'association',\n",
       " 'assume',\n",
       " 'assumed',\n",
       " 'assuming',\n",
       " 'assumption',\n",
       " 'assured',\n",
       " 'asylum',\n",
       " 'atlantic',\n",
       " 'atmosphere',\n",
       " 'atomic',\n",
       " 'attack',\n",
       " 'attacked',\n",
       " 'attackers',\n",
       " 'attacking',\n",
       " 'attacks',\n",
       " 'attempt',\n",
       " 'attempted',\n",
       " 'attempting',\n",
       " 'attempts',\n",
       " 'attend',\n",
       " 'attended',\n",
       " 'attending',\n",
       " 'attention',\n",
       " 'attitude',\n",
       " 'attitudes',\n",
       " 'attorney',\n",
       " 'attorneys',\n",
       " 'attract',\n",
       " 'attracted',\n",
       " 'audience',\n",
       " 'audio',\n",
       " 'august',\n",
       " 'austin',\n",
       " 'australia',\n",
       " 'australian',\n",
       " 'author',\n",
       " 'authoritarian',\n",
       " 'authorities',\n",
       " 'authority',\n",
       " 'authorization',\n",
       " 'authorized',\n",
       " 'authors',\n",
       " 'auto',\n",
       " 'automatic',\n",
       " 'automatically',\n",
       " 'available',\n",
       " 'avenue',\n",
       " 'average',\n",
       " 'avoid',\n",
       " 'avoided',\n",
       " 'avoiding',\n",
       " 'award',\n",
       " 'awarded',\n",
       " 'aware',\n",
       " 'awareness',\n",
       " 'away',\n",
       " 'awkward',\n",
       " 'aâ',\n",
       " 'babies',\n",
       " 'baby',\n",
       " 'backed',\n",
       " 'backers',\n",
       " 'background',\n",
       " 'backing',\n",
       " 'backlash',\n",
       " 'bad',\n",
       " 'badly',\n",
       " 'bag',\n",
       " 'baghdad',\n",
       " 'balance',\n",
       " 'ball',\n",
       " 'ballistic',\n",
       " 'ballot',\n",
       " 'ballots',\n",
       " 'baltimore',\n",
       " 'ban',\n",
       " 'band',\n",
       " 'bank',\n",
       " 'bankers',\n",
       " 'banking',\n",
       " 'banks',\n",
       " 'banned',\n",
       " 'banning',\n",
       " 'bannon',\n",
       " 'bar',\n",
       " 'barack',\n",
       " 'barely',\n",
       " 'bars',\n",
       " 'base',\n",
       " 'baseball',\n",
       " 'based',\n",
       " 'bases',\n",
       " 'bashar',\n",
       " 'basic',\n",
       " 'basically',\n",
       " 'basis',\n",
       " 'bathroom',\n",
       " 'batteries',\n",
       " 'battle',\n",
       " 'battleground',\n",
       " 'battles',\n",
       " 'bay',\n",
       " 'bbc',\n",
       " 'beach',\n",
       " 'bear',\n",
       " 'beast',\n",
       " 'beat',\n",
       " 'beaten',\n",
       " 'beating',\n",
       " 'beautiful',\n",
       " 'beauty',\n",
       " 'bed',\n",
       " 'began',\n",
       " 'begin',\n",
       " 'beginning',\n",
       " 'begins',\n",
       " 'begun',\n",
       " 'behalf',\n",
       " 'behavior',\n",
       " 'beings',\n",
       " 'belgian',\n",
       " 'belgium',\n",
       " 'belief',\n",
       " 'beliefs',\n",
       " 'believe',\n",
       " 'believed',\n",
       " 'believes',\n",
       " 'believing',\n",
       " 'ben',\n",
       " 'bench',\n",
       " 'benefit',\n",
       " 'benefits',\n",
       " 'benghazi',\n",
       " 'benjamin',\n",
       " 'bernardino',\n",
       " 'bernie',\n",
       " 'best',\n",
       " 'bet',\n",
       " 'better',\n",
       " 'bias',\n",
       " 'biased',\n",
       " 'bible',\n",
       " 'bid',\n",
       " 'biden',\n",
       " 'big',\n",
       " 'bigger',\n",
       " 'biggest',\n",
       " 'bigotry',\n",
       " 'billion',\n",
       " 'billionaire',\n",
       " 'billionaires',\n",
       " 'billions',\n",
       " 'bills',\n",
       " 'bin',\n",
       " 'bipartisan',\n",
       " 'birth',\n",
       " 'birthday',\n",
       " 'bit',\n",
       " 'bitter',\n",
       " 'bizarre',\n",
       " 'black',\n",
       " 'blacks',\n",
       " 'blame',\n",
       " 'blamed',\n",
       " 'blaming',\n",
       " 'blast',\n",
       " 'blasted',\n",
       " 'blew',\n",
       " 'blind',\n",
       " 'bloc',\n",
       " 'block',\n",
       " 'blocked',\n",
       " 'blocking',\n",
       " 'blog',\n",
       " 'blood',\n",
       " 'bloody',\n",
       " 'bloomberg',\n",
       " 'blow',\n",
       " 'blue',\n",
       " 'board',\n",
       " 'bob',\n",
       " 'bodies',\n",
       " 'body',\n",
       " 'boehner',\n",
       " 'bold',\n",
       " 'bomb',\n",
       " 'bombing',\n",
       " 'bombs',\n",
       " 'bombshell',\n",
       " 'bond',\n",
       " 'bonds',\n",
       " 'book',\n",
       " 'books',\n",
       " 'boost',\n",
       " 'border',\n",
       " 'borders',\n",
       " 'born',\n",
       " 'boss',\n",
       " 'boston',\n",
       " 'bought',\n",
       " 'bound',\n",
       " 'box',\n",
       " 'boy',\n",
       " 'boys',\n",
       " 'brain',\n",
       " 'branch',\n",
       " 'brand',\n",
       " 'brave',\n",
       " 'brazil',\n",
       " 'brazile',\n",
       " 'break',\n",
       " 'breakdown',\n",
       " 'breaking',\n",
       " 'breaks',\n",
       " 'breath',\n",
       " 'breitbart',\n",
       " 'brexit',\n",
       " 'brian',\n",
       " 'bridge',\n",
       " 'brief',\n",
       " 'briefing',\n",
       " 'briefly',\n",
       " 'bright',\n",
       " 'bring',\n",
       " 'bringing',\n",
       " 'brings',\n",
       " 'britain',\n",
       " 'british',\n",
       " 'broad',\n",
       " 'broadcast',\n",
       " 'broader',\n",
       " 'broke',\n",
       " 'broken',\n",
       " 'brookings',\n",
       " 'brooklyn',\n",
       " 'brother',\n",
       " 'brothers',\n",
       " 'brought',\n",
       " 'brown',\n",
       " 'brussels',\n",
       " 'brutal',\n",
       " 'bubble',\n",
       " 'budget',\n",
       " 'build',\n",
       " 'building',\n",
       " 'buildings',\n",
       " 'built',\n",
       " 'bulk',\n",
       " 'bullets',\n",
       " 'bunch',\n",
       " 'burden',\n",
       " 'bureau',\n",
       " 'buried',\n",
       " 'burn',\n",
       " 'burned',\n",
       " 'burning',\n",
       " 'bus',\n",
       " 'bush',\n",
       " 'bushâ',\n",
       " 'business',\n",
       " 'businesses',\n",
       " 'businessman',\n",
       " 'busy',\n",
       " 'button',\n",
       " 'buy',\n",
       " 'buying',\n",
       " 'cabinet',\n",
       " 'cable',\n",
       " 'calendar',\n",
       " 'calif',\n",
       " 'california',\n",
       " 'called',\n",
       " 'calling',\n",
       " 'calls',\n",
       " 'calm',\n",
       " 'came',\n",
       " 'camera',\n",
       " 'cameras',\n",
       " 'camp',\n",
       " 'campaign',\n",
       " 'campaigned',\n",
       " 'campaigning',\n",
       " 'campaigns',\n",
       " 'campaignâ',\n",
       " 'camps',\n",
       " 'campus',\n",
       " 'canada',\n",
       " 'canadian',\n",
       " 'cancer',\n",
       " 'candidacy',\n",
       " 'candidate',\n",
       " 'candidates',\n",
       " 'candidateâ',\n",
       " 'canâ',\n",
       " 'cap',\n",
       " 'capabilities',\n",
       " 'capable',\n",
       " 'capacity',\n",
       " 'capital',\n",
       " 'capitalism',\n",
       " 'capitalist',\n",
       " 'capitol',\n",
       " 'capture',\n",
       " 'captured',\n",
       " 'car',\n",
       " 'carbon',\n",
       " 'card',\n",
       " 'cards',\n",
       " 'care',\n",
       " 'career',\n",
       " 'careful',\n",
       " 'carefully',\n",
       " 'cares',\n",
       " 'carly',\n",
       " 'carolina',\n",
       " 'carried',\n",
       " 'carrier',\n",
       " 'carry',\n",
       " 'carrying',\n",
       " 'cars',\n",
       " 'carson',\n",
       " 'carter',\n",
       " 'case',\n",
       " 'cases',\n",
       " 'cash',\n",
       " 'cast',\n",
       " 'casting',\n",
       " 'castro',\n",
       " 'casualties',\n",
       " 'catch',\n",
       " 'category',\n",
       " 'catholic',\n",
       " 'catholics',\n",
       " 'caucus',\n",
       " 'caucuses',\n",
       " 'caught',\n",
       " 'cause',\n",
       " 'caused',\n",
       " 'causes',\n",
       " 'causing',\n",
       " 'cbs',\n",
       " 'cdc',\n",
       " 'cease',\n",
       " 'ceiling',\n",
       " 'celebrate',\n",
       " 'celebrity',\n",
       " 'cell',\n",
       " 'cells',\n",
       " 'census',\n",
       " 'center',\n",
       " 'centers',\n",
       " 'central',\n",
       " 'centre',\n",
       " 'centrist',\n",
       " 'centuries',\n",
       " 'century',\n",
       " 'ceo',\n",
       " 'ceremony',\n",
       " 'certain',\n",
       " 'certainly',\n",
       " 'chain',\n",
       " 'chair',\n",
       " 'chairman',\n",
       " 'chairs',\n",
       " 'challenge',\n",
       " 'challenged',\n",
       " 'challenges',\n",
       " 'challenging',\n",
       " 'chamber',\n",
       " 'champion',\n",
       " 'chance',\n",
       " 'chances',\n",
       " 'change',\n",
       " 'changed',\n",
       " 'changes',\n",
       " 'changing',\n",
       " 'channel',\n",
       " 'channels',\n",
       " 'chaos',\n",
       " 'chapter',\n",
       " 'character',\n",
       " 'charge',\n",
       " 'charged',\n",
       " 'charges',\n",
       " 'charity',\n",
       " 'charles',\n",
       " 'charleston',\n",
       " 'charlie',\n",
       " 'chart',\n",
       " 'cheap',\n",
       " 'check',\n",
       " 'checked',\n",
       " 'checking',\n",
       " 'checks',\n",
       " 'chelsea',\n",
       " 'chemical',\n",
       " 'chemicals',\n",
       " 'chicago',\n",
       " 'chief',\n",
       " 'child',\n",
       " 'childhood',\n",
       " 'children',\n",
       " 'childrenâ',\n",
       " 'china',\n",
       " 'chinaâ',\n",
       " 'chinese',\n",
       " 'choice',\n",
       " 'choices',\n",
       " 'choose',\n",
       " 'choosing',\n",
       " 'chose',\n",
       " 'chosen',\n",
       " 'chris',\n",
       " 'christ',\n",
       " 'christian',\n",
       " 'christianity',\n",
       " 'christians',\n",
       " 'christie',\n",
       " 'christmas',\n",
       " 'chuck',\n",
       " 'church',\n",
       " 'churches',\n",
       " 'cia',\n",
       " 'circle',\n",
       " 'circles',\n",
       " 'circuit',\n",
       " 'circumstances',\n",
       " 'cited',\n",
       " 'cities',\n",
       " 'citing',\n",
       " 'citizen',\n",
       " 'citizens',\n",
       " 'citizenship',\n",
       " 'city',\n",
       " 'cityâ',\n",
       " 'civil',\n",
       " 'civilian',\n",
       " 'civilians',\n",
       " 'civilization',\n",
       " 'claim',\n",
       " 'claimed',\n",
       " 'claiming',\n",
       " 'claims',\n",
       " 'class',\n",
       " 'classes',\n",
       " 'classic',\n",
       " 'classified',\n",
       " 'clean',\n",
       " 'clear',\n",
       " 'cleared',\n",
       " 'clearly',\n",
       " 'clerk',\n",
       " 'cleveland',\n",
       " 'click',\n",
       " 'clients',\n",
       " 'climate',\n",
       " 'clinics',\n",
       " 'clinton',\n",
       " 'clintons',\n",
       " 'clintonâ',\n",
       " 'clip',\n",
       " 'clock',\n",
       " 'close',\n",
       " 'closed',\n",
       " 'closely',\n",
       " 'closer',\n",
       " 'closest',\n",
       " 'closing',\n",
       " 'club',\n",
       " 'cnbc',\n",
       " 'cnn',\n",
       " 'coal',\n",
       " 'coalition',\n",
       " 'coast',\n",
       " 'code',\n",
       " 'cold',\n",
       " 'collapse',\n",
       " 'collapsed',\n",
       " 'collar',\n",
       " 'colleague',\n",
       " 'colleagues',\n",
       " 'collect',\n",
       " 'collected',\n",
       " 'collection',\n",
       " 'collective',\n",
       " 'college',\n",
       " 'collusion',\n",
       " 'color',\n",
       " 'colorado',\n",
       " 'columbia',\n",
       " 'column',\n",
       " 'columnist',\n",
       " 'com',\n",
       " 'combat',\n",
       " 'combination',\n",
       " 'combined',\n",
       " 'come',\n",
       " 'comes',\n",
       " 'comey',\n",
       " 'comeyâ',\n",
       " 'comfort',\n",
       " 'comfortable',\n",
       " 'coming',\n",
       " 'command',\n",
       " 'commander',\n",
       " 'commanders',\n",
       " 'comment',\n",
       " 'commentary',\n",
       " 'commentator',\n",
       " 'comments',\n",
       " 'commerce',\n",
       " 'commercial',\n",
       " 'commission',\n",
       " 'commissioner',\n",
       " 'commit',\n",
       " 'commitment',\n",
       " 'commitments',\n",
       " 'committed',\n",
       " 'committee',\n",
       " 'committees',\n",
       " 'committing',\n",
       " 'common',\n",
       " 'communication',\n",
       " 'communications',\n",
       " 'communist',\n",
       " 'communities',\n",
       " 'community',\n",
       " 'companies',\n",
       " 'company',\n",
       " 'compare',\n",
       " 'compared',\n",
       " 'comparison',\n",
       " 'compelling',\n",
       " 'compete',\n",
       " 'competing',\n",
       " 'competition',\n",
       " 'competitive',\n",
       " 'complained',\n",
       " 'complaint',\n",
       " 'complaints',\n",
       " 'complete',\n",
       " 'completed',\n",
       " 'completely',\n",
       " 'complex',\n",
       " 'compliance',\n",
       " 'complicated',\n",
       " 'comply',\n",
       " 'compound',\n",
       " 'comprehensive',\n",
       " 'compromise',\n",
       " 'computer',\n",
       " 'computers',\n",
       " 'concept',\n",
       " 'concern',\n",
       " 'concerned',\n",
       " 'concerning',\n",
       " 'concerns',\n",
       " 'concert',\n",
       " 'conclude',\n",
       " 'concluded',\n",
       " 'conclusion',\n",
       " 'conclusions',\n",
       " 'concrete',\n",
       " 'condemned',\n",
       " 'condition',\n",
       " 'conditions',\n",
       " 'conduct',\n",
       " 'conducted',\n",
       " 'conducting',\n",
       " 'conference',\n",
       " 'confidence',\n",
       " 'confident',\n",
       " 'confirm',\n",
       " 'confirmation',\n",
       " 'confirmed',\n",
       " 'conflict',\n",
       " 'conflicts',\n",
       " 'confront',\n",
       " 'confrontation',\n",
       " 'confronted',\n",
       " 'confused',\n",
       " ...]"
      ]
     },
     "execution_count": 40,
     "metadata": {},
     "output_type": "execute_result"
    }
   ],
   "source": [
    "tf.get_feature_names()"
   ]
  },
  {
   "cell_type": "code",
   "execution_count": 45,
   "metadata": {
    "collapsed": true
   },
   "outputs": [],
   "source": [
    "## Importing a Learning Model"
   ]
  },
  {
   "cell_type": "code",
   "execution_count": 46,
   "metadata": {},
   "outputs": [
    {
     "data": {
      "text/plain": [
       "array([ 0.,  0.,  0., ...,  0.,  0.,  0.])"
      ]
     },
     "execution_count": 46,
     "metadata": {},
     "output_type": "execute_result"
    }
   ],
   "source": [
    "train_x_tfidf_array = train_x_tfidf.toarray()\n",
    "train_x_tfidf_array[0]\n"
   ]
  },
  {
   "cell_type": "code",
   "execution_count": 47,
   "metadata": {},
   "outputs": [
    {
     "data": {
      "text/plain": [
       "[array(['60', 'abedin', 'abuses', 'accused', 'accusing', 'act', 'admits',\n",
       "        'ads', 'afraid', 'age', 'agency', 'agents', 'ago', 'ahead', 'alive',\n",
       "        'allegations', 'allies', 'allowed', 'amendment', 'americans',\n",
       "        'anthony', 'appearance', 'appeared', 'approach', 'article',\n",
       "        'assault', 'assume', 'attack', 'attacked', 'attacking', 'away',\n",
       "        'awkward', 'bad', 'badly', 'bathroom', 'behavior', 'belief',\n",
       "        'believes', 'believing', 'better', 'bigger', 'bizarre', 'born',\n",
       "        'boston', 'bring', 'bureau', 'buried', 'cable', 'calling',\n",
       "        'campaign', 'candidate', 'center', 'changed', 'charge', 'claim',\n",
       "        'claimed', 'claiming', 'classified', 'clinton', 'clintons',\n",
       "        'closing', 'cnn', 'column', 'come', 'comey', 'comeyâ', 'compared',\n",
       "        'computer', 'confident', 'continue', 'control', 'corruption',\n",
       "        'countless', 'country', 'cover', 'credibility', 'crime', 'criminal',\n",
       "        'currently', 'cycle', 'damaging', 'daniel', 'debate', 'decided',\n",
       "        'decides', 'declare', 'democrats', 'denial', 'deny', 'desperate',\n",
       "        'destroy', 'development', 'did', 'director', 'display', 'doj',\n",
       "        'donâ', 'editorial', 'elect', 'election', 'email', 'emails',\n",
       "        'energy', 'entire', 'establishment', 'exactly', 'existence',\n",
       "        'explanation', 'exposed', 'fairly', 'fbi', 'fbiâ', 'fear',\n",
       "        'federal', 'fellow', 'fight', 'fighting', 'filled', 'final',\n",
       "        'finding', 'focused', 'focusing', 'followed', 'form', 'foundation',\n",
       "        'freedom', 'fundamental', 'gave', 'given', 'globe', 'going', 'gone',\n",
       "        'good', 'hard', 'harry', 'hatch', 'head', 'headline', 'hell', 'heâ',\n",
       "        'hillary', 'hillaryâ', 'hit', 'hospital', 'hour', 'house', 'huma',\n",
       "        'hurt', 'idea', 'illegal', 'information', 'insisted', 'instead',\n",
       "        'interesting', 'intimidation', 'investigation', 'investigators',\n",
       "        'islam', 'isnâ', 'itâ', 'james', 'jobs', 'journalism', 'just',\n",
       "        'keeping', 'kind', 'knew', 'know', 'latest', 'lead', 'leadership',\n",
       "        'led', 'left', 'letter', 'lie', 'lies', 'like', 'lived', 'long',\n",
       "        'longer', 'look', 'lot', 'lynch', 'major', 'meant', 'media', 'mess',\n",
       "        'miles', 'msnbc', 'near', 'new', 'news', 'nice', 'nominee',\n",
       "        'nonsense', 'numerous', 'obama', 'obamaâ', 'old', 'operation',\n",
       "        'opponent', 'option', 'original', 'ought', 'outcome', 'party',\n",
       "        'pass', 'patients', 'paul', 'people', 'picked', 'picking', 'pieces',\n",
       "        'place', 'plan', 'playing', 'political', 'poses', 'possible',\n",
       "        'power', 'practically', 'presidential', 'procedure', 'prominent',\n",
       "        'promising', 'protecting', 'public', 'published', 'pure', 'putin',\n",
       "        'question', 'questions', 'quickly', 'radical', 'ranks', 'rating',\n",
       "        'react', 'really', 'reason', 'reid', 'relief', 'remind', 'replaced',\n",
       "        'republicans', 'resignation', 'respected', 'respond', 'results',\n",
       "        'retired', 'reveal', 'revelation', 'review', 'ride', 'rigged',\n",
       "        'right', 'risk', 'rodham', 'role', 'running', 'ryan', 'scandal',\n",
       "        'scandals', 'scene', 'security', 'senator', 'senior', 'sent',\n",
       "        'server', 'sexual', 'sheâ', 'short', 'shown', 'smart', 'smoke',\n",
       "        'space', 'spectrum', 'stand', 'start', 'statement', 'stay', 'step',\n",
       "        'stories', 'strange', 'strategy', 'stretch', 'struggle',\n",
       "        'substance', 'sudden', 'suddenly', 'surprising', 'survival',\n",
       "        'table', 'taking', 'talked', 'targeting', 'tells', 'thatâ',\n",
       "        'thereâ', 'thing', 'thought', 'threat', 'thrown', 'tied', 'time',\n",
       "        'times', 'truly', 'trump', 'try', 'trying', 'ugly', 'underway',\n",
       "        'unfavorable', 'unite', 'unprecedented', 'usual', 'value', 'vast',\n",
       "        'victory', 'violating', 'violation', 'vladimir', 'waking', 'want',\n",
       "        'war', 'warned', 'warning', 'watching', 'way', 'weinerâ', 'whatâ',\n",
       "        'wing', 'women', 'word', 'wouldnâ', 'wound', 'writer', 'wrong',\n",
       "        'years', 'york'], \n",
       "       dtype='<U16')]"
      ]
     },
     "execution_count": 47,
     "metadata": {},
     "output_type": "execute_result"
    }
   ],
   "source": [
    "tf.inverse_transform(train_x_tfidf_array[0]) ## just to check what all features are there. \n"
   ]
  },
  {
   "cell_type": "code",
   "execution_count": 48,
   "metadata": {
    "collapsed": true
   },
   "outputs": [],
   "source": [
    "from sklearn.naive_bayes import MultinomialNB"
   ]
  },
  {
   "cell_type": "code",
   "execution_count": 49,
   "metadata": {},
   "outputs": [
    {
     "data": {
      "text/plain": [
       "MultinomialNB(alpha=1.0, class_prior=None, fit_prior=True)"
      ]
     },
     "execution_count": 49,
     "metadata": {},
     "output_type": "execute_result"
    }
   ],
   "source": [
    "mnb = MultinomialNB(alpha=1.0) # Check what this alpha value is. You have already learnt most of the math to understand this. \n",
    "mnb.fit(train_x_tfidf_array,train_y)"
   ]
  },
  {
   "cell_type": "code",
   "execution_count": 50,
   "metadata": {
    "collapsed": true
   },
   "outputs": [],
   "source": [
    "## Test Set Data"
   ]
  },
  {
   "cell_type": "code",
   "execution_count": null,
   "metadata": {
    "collapsed": true
   },
   "outputs": [],
   "source": []
  }
 ],
 "metadata": {
  "kernelspec": {
   "display_name": "Python 3",
   "language": "python",
   "name": "python3"
  },
  "language_info": {
   "codemirror_mode": {
    "name": "ipython",
    "version": 3
   },
   "file_extension": ".py",
   "mimetype": "text/x-python",
   "name": "python",
   "nbconvert_exporter": "python",
   "pygments_lexer": "ipython3",
   "version": "3.6.1"
  }
 },
 "nbformat": 4,
 "nbformat_minor": 2
}
